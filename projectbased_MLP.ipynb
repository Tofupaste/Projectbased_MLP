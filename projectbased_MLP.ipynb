{
 "cells": [
  {
   "cell_type": "code",
   "execution_count": 83,
   "metadata": {},
   "outputs": [],
   "source": [
    "import numpy as np\n",
    "import pandas as pd"
   ]
  },
  {
   "cell_type": "code",
   "execution_count": 84,
   "metadata": {},
   "outputs": [
    {
     "data": {
      "text/html": [
       "<div>\n",
       "<style scoped>\n",
       "    .dataframe tbody tr th:only-of-type {\n",
       "        vertical-align: middle;\n",
       "    }\n",
       "\n",
       "    .dataframe tbody tr th {\n",
       "        vertical-align: top;\n",
       "    }\n",
       "\n",
       "    .dataframe thead th {\n",
       "        text-align: right;\n",
       "    }\n",
       "</style>\n",
       "<table border=\"1\" class=\"dataframe\">\n",
       "  <thead>\n",
       "    <tr style=\"text-align: right;\">\n",
       "      <th></th>\n",
       "      <th>id</th>\n",
       "      <th>Satisfaction</th>\n",
       "      <th>ReviewHeader</th>\n",
       "      <th>Name</th>\n",
       "      <th>Datetime</th>\n",
       "      <th>VerifiedReview</th>\n",
       "      <th>ReviewBody</th>\n",
       "      <th>TypeOfTraveller</th>\n",
       "      <th>SeatType</th>\n",
       "      <th>Route</th>\n",
       "      <th>DateFlown</th>\n",
       "      <th>SeatComfort</th>\n",
       "      <th>CabinStaffService</th>\n",
       "      <th>GroundService</th>\n",
       "      <th>ValueForMoney</th>\n",
       "      <th>Recommended</th>\n",
       "      <th>Aircraft</th>\n",
       "      <th>Food&amp;Beverages</th>\n",
       "      <th>InflightEntertainment</th>\n",
       "      <th>Wifi&amp;Connectivity</th>\n",
       "    </tr>\n",
       "  </thead>\n",
       "  <tbody>\n",
       "    <tr>\n",
       "      <th>0</th>\n",
       "      <td>0</td>\n",
       "      <td>Very Dissatisfied</td>\n",
       "      <td>\"Service level far worse then Ryanair\"</td>\n",
       "      <td>L Keele</td>\n",
       "      <td>19th November 2023</td>\n",
       "      <td>True</td>\n",
       "      <td>4 Hours before takeoff we received a Mail stat...</td>\n",
       "      <td>Couple Leisure</td>\n",
       "      <td>Economy Class</td>\n",
       "      <td>London to Stuttgart</td>\n",
       "      <td>2023-11-01</td>\n",
       "      <td>1.0</td>\n",
       "      <td>1.0</td>\n",
       "      <td>1.0</td>\n",
       "      <td>1.0</td>\n",
       "      <td>no</td>\n",
       "      <td>NaN</td>\n",
       "      <td>NaN</td>\n",
       "      <td>NaN</td>\n",
       "      <td>NaN</td>\n",
       "    </tr>\n",
       "    <tr>\n",
       "      <th>1</th>\n",
       "      <td>1</td>\n",
       "      <td>Neutral</td>\n",
       "      <td>\"do not upgrade members based on status\"</td>\n",
       "      <td>Austin Jones</td>\n",
       "      <td>19th November 2023</td>\n",
       "      <td>True</td>\n",
       "      <td>I recently had a delay on British Airways from...</td>\n",
       "      <td>Business</td>\n",
       "      <td>Economy Class</td>\n",
       "      <td>Brussels to London</td>\n",
       "      <td>2023-11-01</td>\n",
       "      <td>2.0</td>\n",
       "      <td>3.0</td>\n",
       "      <td>1.0</td>\n",
       "      <td>2.0</td>\n",
       "      <td>no</td>\n",
       "      <td>A320</td>\n",
       "      <td>1.0</td>\n",
       "      <td>2.0</td>\n",
       "      <td>2.0</td>\n",
       "    </tr>\n",
       "    <tr>\n",
       "      <th>2</th>\n",
       "      <td>2</td>\n",
       "      <td>Enthusiastic</td>\n",
       "      <td>\"Flight was smooth and quick\"</td>\n",
       "      <td>M A Collie</td>\n",
       "      <td>16th November 2023</td>\n",
       "      <td>False</td>\n",
       "      <td>Boarded on time, but it took ages to get to th...</td>\n",
       "      <td>Couple Leisure</td>\n",
       "      <td>Business Class</td>\n",
       "      <td>London Heathrow to Dublin</td>\n",
       "      <td>2023-11-01</td>\n",
       "      <td>3.0</td>\n",
       "      <td>3.0</td>\n",
       "      <td>4.0</td>\n",
       "      <td>3.0</td>\n",
       "      <td>yes</td>\n",
       "      <td>A320</td>\n",
       "      <td>4.0</td>\n",
       "      <td>NaN</td>\n",
       "      <td>NaN</td>\n",
       "    </tr>\n",
       "    <tr>\n",
       "      <th>3</th>\n",
       "      <td>3</td>\n",
       "      <td>Very Dissatisfied</td>\n",
       "      <td>\"Absolutely hopeless airline\"</td>\n",
       "      <td>Nigel Dean</td>\n",
       "      <td>16th November 2023</td>\n",
       "      <td>True</td>\n",
       "      <td>5 days before the flight, we were advised by B...</td>\n",
       "      <td>Couple Leisure</td>\n",
       "      <td>Economy Class</td>\n",
       "      <td>London to Dublin</td>\n",
       "      <td>2022-12-01</td>\n",
       "      <td>3.0</td>\n",
       "      <td>3.0</td>\n",
       "      <td>1.0</td>\n",
       "      <td>1.0</td>\n",
       "      <td>no</td>\n",
       "      <td>NaN</td>\n",
       "      <td>NaN</td>\n",
       "      <td>NaN</td>\n",
       "      <td>NaN</td>\n",
       "    </tr>\n",
       "    <tr>\n",
       "      <th>4</th>\n",
       "      <td>4</td>\n",
       "      <td>Very Dissatisfied</td>\n",
       "      <td>\"Customer Service is non existent\"</td>\n",
       "      <td>Gaylynne Simpson</td>\n",
       "      <td>14th November 2023</td>\n",
       "      <td>False</td>\n",
       "      <td>We traveled to Lisbon for our dream vacation, ...</td>\n",
       "      <td>Couple Leisure</td>\n",
       "      <td>Economy Class</td>\n",
       "      <td>London to Lisbon</td>\n",
       "      <td>2023-11-01</td>\n",
       "      <td>1.0</td>\n",
       "      <td>1.0</td>\n",
       "      <td>1.0</td>\n",
       "      <td>1.0</td>\n",
       "      <td>no</td>\n",
       "      <td>NaN</td>\n",
       "      <td>1.0</td>\n",
       "      <td>1.0</td>\n",
       "      <td>1.0</td>\n",
       "    </tr>\n",
       "  </tbody>\n",
       "</table>\n",
       "</div>"
      ],
      "text/plain": [
       "   id       Satisfaction                              ReviewHeader  \\\n",
       "0   0  Very Dissatisfied    \"Service level far worse then Ryanair\"   \n",
       "1   1            Neutral  \"do not upgrade members based on status\"   \n",
       "2   2       Enthusiastic             \"Flight was smooth and quick\"   \n",
       "3   3  Very Dissatisfied             \"Absolutely hopeless airline\"   \n",
       "4   4  Very Dissatisfied        \"Customer Service is non existent\"   \n",
       "\n",
       "               Name            Datetime  VerifiedReview  \\\n",
       "0           L Keele  19th November 2023            True   \n",
       "1      Austin Jones  19th November 2023            True   \n",
       "2        M A Collie  16th November 2023           False   \n",
       "3        Nigel Dean  16th November 2023            True   \n",
       "4  Gaylynne Simpson  14th November 2023           False   \n",
       "\n",
       "                                          ReviewBody TypeOfTraveller  \\\n",
       "0  4 Hours before takeoff we received a Mail stat...  Couple Leisure   \n",
       "1  I recently had a delay on British Airways from...        Business   \n",
       "2  Boarded on time, but it took ages to get to th...  Couple Leisure   \n",
       "3  5 days before the flight, we were advised by B...  Couple Leisure   \n",
       "4  We traveled to Lisbon for our dream vacation, ...  Couple Leisure   \n",
       "\n",
       "         SeatType                      Route  DateFlown  SeatComfort  \\\n",
       "0   Economy Class        London to Stuttgart 2023-11-01          1.0   \n",
       "1   Economy Class         Brussels to London 2023-11-01          2.0   \n",
       "2  Business Class  London Heathrow to Dublin 2023-11-01          3.0   \n",
       "3   Economy Class           London to Dublin 2022-12-01          3.0   \n",
       "4   Economy Class           London to Lisbon 2023-11-01          1.0   \n",
       "\n",
       "   CabinStaffService  GroundService  ValueForMoney Recommended Aircraft  \\\n",
       "0                1.0            1.0            1.0          no      NaN   \n",
       "1                3.0            1.0            2.0          no     A320   \n",
       "2                3.0            4.0            3.0         yes     A320   \n",
       "3                3.0            1.0            1.0          no      NaN   \n",
       "4                1.0            1.0            1.0          no      NaN   \n",
       "\n",
       "   Food&Beverages  InflightEntertainment  Wifi&Connectivity  \n",
       "0             NaN                    NaN                NaN  \n",
       "1             1.0                    2.0                2.0  \n",
       "2             4.0                    NaN                NaN  \n",
       "3             NaN                    NaN                NaN  \n",
       "4             1.0                    1.0                1.0  "
      ]
     },
     "metadata": {},
     "output_type": "display_data"
    },
    {
     "data": {
      "text/html": [
       "<div>\n",
       "<style scoped>\n",
       "    .dataframe tbody tr th:only-of-type {\n",
       "        vertical-align: middle;\n",
       "    }\n",
       "\n",
       "    .dataframe tbody tr th {\n",
       "        vertical-align: top;\n",
       "    }\n",
       "\n",
       "    .dataframe thead th {\n",
       "        text-align: right;\n",
       "    }\n",
       "</style>\n",
       "<table border=\"1\" class=\"dataframe\">\n",
       "  <thead>\n",
       "    <tr style=\"text-align: right;\">\n",
       "      <th></th>\n",
       "      <th>id</th>\n",
       "      <th>SeatComfort</th>\n",
       "      <th>CabinStaffService</th>\n",
       "      <th>GroundService</th>\n",
       "      <th>ValueForMoney</th>\n",
       "      <th>Food&amp;Beverages</th>\n",
       "      <th>InflightEntertainment</th>\n",
       "      <th>Wifi&amp;Connectivity</th>\n",
       "    </tr>\n",
       "  </thead>\n",
       "  <tbody>\n",
       "    <tr>\n",
       "      <th>count</th>\n",
       "      <td>3701.000000</td>\n",
       "      <td>3585.000000</td>\n",
       "      <td>3574.000000</td>\n",
       "      <td>2855.000000</td>\n",
       "      <td>3700.000000</td>\n",
       "      <td>3315.000000</td>\n",
       "      <td>2551.000000</td>\n",
       "      <td>609.000000</td>\n",
       "    </tr>\n",
       "    <tr>\n",
       "      <th>mean</th>\n",
       "      <td>1850.000000</td>\n",
       "      <td>2.875314</td>\n",
       "      <td>3.254057</td>\n",
       "      <td>2.784238</td>\n",
       "      <td>2.688378</td>\n",
       "      <td>2.713122</td>\n",
       "      <td>2.646021</td>\n",
       "      <td>1.924466</td>\n",
       "    </tr>\n",
       "    <tr>\n",
       "      <th>std</th>\n",
       "      <td>1068.531001</td>\n",
       "      <td>1.362081</td>\n",
       "      <td>1.489709</td>\n",
       "      <td>1.457058</td>\n",
       "      <td>1.471887</td>\n",
       "      <td>1.437092</td>\n",
       "      <td>1.398509</td>\n",
       "      <td>1.352705</td>\n",
       "    </tr>\n",
       "    <tr>\n",
       "      <th>min</th>\n",
       "      <td>0.000000</td>\n",
       "      <td>1.000000</td>\n",
       "      <td>1.000000</td>\n",
       "      <td>1.000000</td>\n",
       "      <td>1.000000</td>\n",
       "      <td>1.000000</td>\n",
       "      <td>1.000000</td>\n",
       "      <td>1.000000</td>\n",
       "    </tr>\n",
       "    <tr>\n",
       "      <th>25%</th>\n",
       "      <td>925.000000</td>\n",
       "      <td>2.000000</td>\n",
       "      <td>2.000000</td>\n",
       "      <td>1.000000</td>\n",
       "      <td>1.000000</td>\n",
       "      <td>1.000000</td>\n",
       "      <td>1.000000</td>\n",
       "      <td>1.000000</td>\n",
       "    </tr>\n",
       "    <tr>\n",
       "      <th>50%</th>\n",
       "      <td>1850.000000</td>\n",
       "      <td>3.000000</td>\n",
       "      <td>3.000000</td>\n",
       "      <td>3.000000</td>\n",
       "      <td>3.000000</td>\n",
       "      <td>3.000000</td>\n",
       "      <td>3.000000</td>\n",
       "      <td>1.000000</td>\n",
       "    </tr>\n",
       "    <tr>\n",
       "      <th>75%</th>\n",
       "      <td>2775.000000</td>\n",
       "      <td>4.000000</td>\n",
       "      <td>5.000000</td>\n",
       "      <td>4.000000</td>\n",
       "      <td>4.000000</td>\n",
       "      <td>4.000000</td>\n",
       "      <td>4.000000</td>\n",
       "      <td>3.000000</td>\n",
       "    </tr>\n",
       "    <tr>\n",
       "      <th>max</th>\n",
       "      <td>3700.000000</td>\n",
       "      <td>5.000000</td>\n",
       "      <td>5.000000</td>\n",
       "      <td>5.000000</td>\n",
       "      <td>5.000000</td>\n",
       "      <td>5.000000</td>\n",
       "      <td>5.000000</td>\n",
       "      <td>5.000000</td>\n",
       "    </tr>\n",
       "  </tbody>\n",
       "</table>\n",
       "</div>"
      ],
      "text/plain": [
       "                id  SeatComfort  CabinStaffService  GroundService  \\\n",
       "count  3701.000000  3585.000000        3574.000000    2855.000000   \n",
       "mean   1850.000000     2.875314           3.254057       2.784238   \n",
       "std    1068.531001     1.362081           1.489709       1.457058   \n",
       "min       0.000000     1.000000           1.000000       1.000000   \n",
       "25%     925.000000     2.000000           2.000000       1.000000   \n",
       "50%    1850.000000     3.000000           3.000000       3.000000   \n",
       "75%    2775.000000     4.000000           5.000000       4.000000   \n",
       "max    3700.000000     5.000000           5.000000       5.000000   \n",
       "\n",
       "       ValueForMoney  Food&Beverages  InflightEntertainment  Wifi&Connectivity  \n",
       "count    3700.000000     3315.000000            2551.000000         609.000000  \n",
       "mean        2.688378        2.713122               2.646021           1.924466  \n",
       "std         1.471887        1.437092               1.398509           1.352705  \n",
       "min         1.000000        1.000000               1.000000           1.000000  \n",
       "25%         1.000000        1.000000               1.000000           1.000000  \n",
       "50%         3.000000        3.000000               3.000000           1.000000  \n",
       "75%         4.000000        4.000000               4.000000           3.000000  \n",
       "max         5.000000        5.000000               5.000000           5.000000  "
      ]
     },
     "execution_count": 84,
     "metadata": {},
     "output_type": "execute_result"
    }
   ],
   "source": [
    "# load Data\n",
    "data = pd.read_excel('BA_AirlineReviews_CL_excel.xlsx')\n",
    "display(data.head())\n",
    "data.describe()"
   ]
  },
  {
   "cell_type": "code",
   "execution_count": 85,
   "metadata": {},
   "outputs": [
    {
     "name": "stdout",
     "output_type": "stream",
     "text": [
      "id                                int64\n",
      "Satisfaction                     object\n",
      "ReviewHeader                     object\n",
      "Name                             object\n",
      "Datetime                         object\n",
      "VerifiedReview                     bool\n",
      "ReviewBody                       object\n",
      "TypeOfTraveller                  object\n",
      "SeatType                         object\n",
      "Route                            object\n",
      "DateFlown                datetime64[ns]\n",
      "SeatComfort                     float64\n",
      "CabinStaffService               float64\n",
      "GroundService                   float64\n",
      "ValueForMoney                   float64\n",
      "Recommended                      object\n",
      "Aircraft                         object\n",
      "Food&Beverages                  float64\n",
      "InflightEntertainment           float64\n",
      "Wifi&Connectivity               float64\n",
      "dtype: object\n"
     ]
    }
   ],
   "source": [
    "# melihat tipe data pada setiap kolom\n",
    "print(data.dtypes)"
   ]
  },
  {
   "cell_type": "code",
   "execution_count": 86,
   "metadata": {},
   "outputs": [
    {
     "data": {
      "text/plain": [
       "id                          0\n",
       "Satisfaction                0\n",
       "ReviewHeader                0\n",
       "Name                        0\n",
       "Datetime                    0\n",
       "VerifiedReview              0\n",
       "ReviewBody                  0\n",
       "TypeOfTraveller           771\n",
       "SeatType                    2\n",
       "Route                     775\n",
       "DateFlown                 778\n",
       "SeatComfort               116\n",
       "CabinStaffService         127\n",
       "GroundService             846\n",
       "ValueForMoney               1\n",
       "Recommended                 0\n",
       "Aircraft                 1779\n",
       "Food&Beverages            386\n",
       "InflightEntertainment    1150\n",
       "Wifi&Connectivity        3092\n",
       "dtype: int64"
      ]
     },
     "execution_count": 86,
     "metadata": {},
     "output_type": "execute_result"
    }
   ],
   "source": [
    "data.isnull().sum()"
   ]
  },
  {
   "cell_type": "markdown",
   "metadata": {},
   "source": [
    "== Preposesing Data =="
   ]
  },
  {
   "cell_type": "code",
   "execution_count": 87,
   "metadata": {},
   "outputs": [
    {
     "name": "stdout",
     "output_type": "stream",
     "text": [
      "id                          0\n",
      "Satisfaction                0\n",
      "ReviewHeader                0\n",
      "Name                        0\n",
      "Datetime                    0\n",
      "VerifiedReview              0\n",
      "ReviewBody                  0\n",
      "TypeOfTraveller           771\n",
      "SeatType                    2\n",
      "Route                     775\n",
      "DateFlown                 778\n",
      "SeatComfort                 0\n",
      "CabinStaffService           0\n",
      "GroundService               0\n",
      "ValueForMoney               0\n",
      "Recommended                 0\n",
      "Aircraft                 1779\n",
      "Food&Beverages              0\n",
      "InflightEntertainment       0\n",
      "Wifi&Connectivity        3092\n",
      "dtype: int64\n"
     ]
    }
   ],
   "source": [
    "# isi menggunakan missing value dengan KNN imputer pada kolom 'SeatComfort', 'CabinStaffService', 'GroundService', 'ValueForMoney', 'Food&Beverages', 'InflightEntertainment'\n",
    "from sklearn.impute import KNNImputer\n",
    "\n",
    "# Definisikan kolom yang akan diimputasi\n",
    "columns_to_impute = ['SeatComfort', 'CabinStaffService', 'GroundService', 'ValueForMoney', 'Food&Beverages', 'InflightEntertainment']\n",
    "\n",
    "# Inisialisasi KNN imputer\n",
    "imputer = KNNImputer(n_neighbors=5)\n",
    "\n",
    "# Lakukan imputasi KNN pada kolom yang ditentukan\n",
    "data[columns_to_impute] = imputer.fit_transform(data[columns_to_impute])\n",
    "\n",
    "# Pembulatan nilai imputasi ke angka terdekat antara 1 dan 5\n",
    "data[columns_to_impute] = np.round(data[columns_to_impute]).astype(int)\n",
    "\n",
    "# Pastikan nilai berada dalam rentang 1 hingga 5\n",
    "data[columns_to_impute] = np.clip(data[columns_to_impute], 1, 5)\n",
    "\n",
    "# Verifikasi apakah missing value sudah diimputasi dan tidak ada yang tersisa\n",
    "print(data.isnull().sum())\n"
   ]
  },
  {
   "cell_type": "code",
   "execution_count": 88,
   "metadata": {},
   "outputs": [
    {
     "name": "stdout",
     "output_type": "stream",
     "text": [
      "Missing values in 'DateFlown': 778\n",
      "Missing values after extracting Month and Year:\n",
      " DateFlown_m    778\n",
      "DateFlown_y    778\n",
      "dtype: int64\n",
      "Missing values after KNN Imputation:\n",
      " DateFlown_m    0\n",
      "DateFlown_y    0\n",
      "dtype: int64\n",
      "Unique values in 'DateFlown_m' and 'DateFlown_y' after rounding and encoding:\n",
      " DateFlown_m  DateFlown_y\n",
      "0.7          0.5            809\n",
      "0.8          0.2             83\n",
      "0.9          0.2             78\n",
      "1.1          0.2             66\n",
      "0.4          0.4             65\n",
      "                           ... \n",
      "0.2          0.8              2\n",
      "1.0          0.1              1\n",
      "0.8          0.1              1\n",
      "0.7          0.1              1\n",
      "0.6          0.7              1\n",
      "Length: 112, dtype: int64\n",
      "Encoded values in 'DateFlown_m' and 'DateFlown_y':\n",
      "   DateFlown_m  DateFlown_y\n",
      "0           10            9\n",
      "1           10            9\n",
      "2           10            9\n",
      "3           11            8\n",
      "4           10            9\n",
      "Missing values after all steps:\n",
      " id                          0\n",
      "Satisfaction                0\n",
      "ReviewHeader                0\n",
      "Name                        0\n",
      "Datetime                    0\n",
      "VerifiedReview              0\n",
      "ReviewBody                  0\n",
      "TypeOfTraveller           771\n",
      "SeatType                    2\n",
      "Route                     775\n",
      "SeatComfort                 0\n",
      "CabinStaffService           0\n",
      "GroundService               0\n",
      "ValueForMoney               0\n",
      "Recommended                 0\n",
      "Aircraft                 1779\n",
      "Food&Beverages              0\n",
      "InflightEntertainment       0\n",
      "Wifi&Connectivity        3092\n",
      "DateFlown_m                 0\n",
      "DateFlown_y                 0\n",
      "dtype: int64\n",
      "Number of unique values in 'DateFlown_m': 12\n",
      "Number of unique values in 'DateFlown_y': 10\n",
      "Unique values in 'DateFlown_m': [10 11  8  9  6  7  3  5  4  2  1  0]\n",
      "Unique values in 'DateFlown_y': [9 8 7 6 5 4 3 2 1 0]\n"
     ]
    }
   ],
   "source": [
    "import pandas as pd\n",
    "import numpy as np\n",
    "from sklearn.impute import KNNImputer\n",
    "from sklearn.preprocessing import OrdinalEncoder\n",
    "\n",
    "# 1. Periksa jumlah missing value pada kolom 'DateFlown'\n",
    "print(\"Missing values in 'DateFlown':\", data['DateFlown'].isnull().sum())\n",
    "\n",
    "# 2. Ekstrak Month dan Year dari 'DateFlown'\n",
    "data['DateFlown_m'] = data['DateFlown'].dt.month\n",
    "data['DateFlown_y'] = data['DateFlown'].dt.year\n",
    "\n",
    "# 3. Periksa missing value setelah ekstraksi\n",
    "print(\"Missing values after extracting Month and Year:\\n\", data[['DateFlown_m', 'DateFlown_y']].isnull().sum())\n",
    "\n",
    "# 4. Terapkan imputasi KNN jika masih ada missing value pada 'DateFlown_m' dan 'DateFlown_y'\n",
    "imputer = KNNImputer(n_neighbors=5)\n",
    "data[['DateFlown_m', 'DateFlown_y']] = imputer.fit_transform(data[['DateFlown_m', 'DateFlown_y']])\n",
    "\n",
    "# 5. Verifikasi apakah imputasi sudah berhasil\n",
    "print(\"Missing values after KNN Imputation:\\n\", data[['DateFlown_m', 'DateFlown_y']].isnull().sum())\n",
    "\n",
    "# 6. Pembulatan dan validasi rentang untuk Month (1-12) dan Year (dalam rentang tahun yang valid)\n",
    "data['DateFlown_m'] = np.clip(np.round(data['DateFlown_m']).astype(int), 1, 12)\n",
    "\n",
    "# Pastikan 'DateFlown_y' berada dalam rentang tahun yang valid\n",
    "data['DateFlown_y'] = np.clip(np.round(data['DateFlown_y']).astype(int), data['DateFlown_y'].min(), data['DateFlown_y'].max())\n",
    "\n",
    "# 7. Buat mapping ordinal untuk bulan (DateFlown_m) dengan penyesuaian 0.1\n",
    "# Januari = 0.1, Februari = 0.2, dst.\n",
    "month_mapping = {month: (month / 10) for month in range(1, 13)}  # Menetapkan bulan Januari = 0.1, dst.\n",
    "data['DateFlown_m'] = data['DateFlown_m'].map(month_mapping)\n",
    "\n",
    "# 8. Buat mapping ordinal untuk tahun (DateFlown_y) dengan penyesuaian 0.1\n",
    "# Menetapkan tahun pertama yang ditemukan sebagai 0.1, dan seterusnya.\n",
    "unique_years = sorted(data['DateFlown_y'].unique())\n",
    "year_mapping = {year: ((year - unique_years[0]) * 0.1 + 0.1) for year in unique_years}  # Menetapkan tahun pertama sebagai 0.1\n",
    "data['DateFlown_y'] = data['DateFlown_y'].map(year_mapping)\n",
    "\n",
    "# 9. Verifikasi hasil setelah pembulatan dan validasi\n",
    "print(\"Unique values in 'DateFlown_m' and 'DateFlown_y' after rounding and encoding:\\n\", data[['DateFlown_m', 'DateFlown_y']].value_counts())\n",
    "\n",
    "# 10. Hapus kolom 'DateFlown' setelah ekstraksi dan imputasi\n",
    "data.drop(columns=['DateFlown'], inplace=True)\n",
    "\n",
    "# 11. Pastikan kolom 'DateFlown_m' dan 'DateFlown_y' dalam format numerik sebelum encoding\n",
    "data[['DateFlown_m', 'DateFlown_y']] = data[['DateFlown_m', 'DateFlown_y']].astype(float)\n",
    "\n",
    "# 12. Inisialisasi OrdinalEncoder dan Terapkan Ordinal Encoding pada kolom 'DateFlown_m' dan 'DateFlown_y'\n",
    "ordinal_encoder = OrdinalEncoder()\n",
    "\n",
    "# Terapkan encoding ordinal\n",
    "data[['DateFlown_m', 'DateFlown_y']] = ordinal_encoder.fit_transform(data[['DateFlown_m', 'DateFlown_y']])\n",
    "\n",
    "# 13. Ubah tipe data kolom 'DateFlown_m' dan 'DateFlown_y' menjadi integer\n",
    "data[['DateFlown_m', 'DateFlown_y']] = data[['DateFlown_m', 'DateFlown_y']].astype(int)\n",
    "\n",
    "# 14. Verifikasi hasil encoding\n",
    "print(\"Encoded values in 'DateFlown_m' and 'DateFlown_y':\")\n",
    "print(data[['DateFlown_m', 'DateFlown_y']].head())\n",
    "\n",
    "# 15. Periksa jumlah missing value setelah semua langkah\n",
    "print(\"Missing values after all steps:\\n\", data.isnull().sum())\n",
    "\n",
    "# 16. Periksa jumlah unique value pada kolom 'DateFlown'\n",
    "print(\"Number of unique values in 'DateFlown_m':\", data['DateFlown_m'].nunique())\n",
    "print(\"Number of unique values in 'DateFlown_y':\", data['DateFlown_y'].nunique())\n",
    "\n",
    "# Tampilkan unique value pada kolom 'DateFlown'\n",
    "print(\"Unique values in 'DateFlown_m':\", data['DateFlown_m'].unique())\n",
    "print(\"Unique values in 'DateFlown_y':\", data['DateFlown_y'].unique())"
   ]
  },
  {
   "cell_type": "code",
   "execution_count": 89,
   "metadata": {},
   "outputs": [
    {
     "name": "stdout",
     "output_type": "stream",
     "text": [
      "0\n"
     ]
    },
    {
     "data": {
      "text/plain": [
       "count             3701\n",
       "unique               4\n",
       "top       Solo Leisure\n",
       "freq              1662\n",
       "Name: TypeOfTraveller, dtype: object"
      ]
     },
     "execution_count": 89,
     "metadata": {},
     "output_type": "execute_result"
    }
   ],
   "source": [
    "# menangani missing value pada kolom 'TypeOfTraveller' menggunakan nilai acak dari kolom tersebut\n",
    "data['TypeOfTraveller'].fillna(data['TypeOfTraveller'].dropna().sample(n=1).values[0], inplace=True)\n",
    "# tampilkan missing value pada kolom 'TypeOfTraveller'\n",
    "print(data['TypeOfTraveller'].isnull().sum())\n",
    "data['TypeOfTraveller'].describe()"
   ]
  },
  {
   "cell_type": "code",
   "execution_count": 90,
   "metadata": {},
   "outputs": [
    {
     "name": "stdout",
     "output_type": "stream",
     "text": [
      "0\n"
     ]
    },
    {
     "data": {
      "text/plain": [
       "count              3701\n",
       "unique                4\n",
       "top       Economy Class\n",
       "freq               1929\n",
       "Name: SeatType, dtype: object"
      ]
     },
     "execution_count": 90,
     "metadata": {},
     "output_type": "execute_result"
    }
   ],
   "source": [
    "# menangani missing value pada kolom 'SeatType' nilai acak dari kolom tersebut\n",
    "data['SeatType'].fillna(data['SeatType'].dropna().sample(n=1).values[0], inplace=True)\n",
    "# tampilkan missing value pada kolom 'SeatType'\n",
    "print(data['SeatType'].isnull().sum())\n",
    "data['SeatType'].describe()"
   ]
  },
  {
   "cell_type": "code",
   "execution_count": 91,
   "metadata": {},
   "outputs": [
    {
     "name": "stdout",
     "output_type": "stream",
     "text": [
      "0\n"
     ]
    },
    {
     "data": {
      "text/plain": [
       "count                  3701\n",
       "unique                 1542\n",
       "top       London to Calgary\n",
       "freq                    777\n",
       "Name: Route, dtype: object"
      ]
     },
     "execution_count": 91,
     "metadata": {},
     "output_type": "execute_result"
    }
   ],
   "source": [
    "# menangani missing value pada kolom 'Route' nilai acak dari kolom tersebut\n",
    "data['Route'].fillna(data['Route'].dropna().sample(n=1).values[0], inplace=True)\n",
    "# tampilkan missing value pada kolom 'Route'\n",
    "print(data['Route'].isnull().sum())\n",
    "data['Route'].describe()"
   ]
  },
  {
   "cell_type": "code",
   "execution_count": 92,
   "metadata": {},
   "outputs": [
    {
     "name": "stdout",
     "output_type": "stream",
     "text": [
      "Jumlah missing values setelah imputasi: 0\n"
     ]
    }
   ],
   "source": [
    "from sklearn.ensemble import RandomForestClassifier\n",
    "from sklearn.model_selection import train_test_split\n",
    "from sklearn.preprocessing import LabelEncoder\n",
    "import pandas as pd\n",
    "\n",
    "# Pastikan data diinisialisasi dengan benar sebelum menjalankan kode ini\n",
    "\n",
    "# 1. Encode kolom Aircraft menggunakan LabelEncoder\n",
    "label_encoder = LabelEncoder()\n",
    "data['Aircraft_encoded'] = label_encoder.fit_transform(data['Aircraft'].astype(str))\n",
    "\n",
    "# 2. Pisahkan data berdasarkan missing dan non-missing values di kolom Aircraft\n",
    "train_data = data[data['Aircraft'].notnull()].copy()\n",
    "missing_data = data[data['Aircraft'].isnull()].copy()\n",
    "\n",
    "# 3. Pastikan fitur yang digunakan tidak memiliki missing values\n",
    "features = ['Route', 'TypeOfTraveller', 'SeatComfort', 'CabinStaffService']\n",
    "train_data = train_data.dropna(subset=features)\n",
    "X_train = pd.get_dummies(train_data[features], drop_first=True)\n",
    "y_train = train_data['Aircraft_encoded']\n",
    "\n",
    "# 4. Pastikan konsistensi kolom antara data pelatihan dan data dengan missing value\n",
    "X_missing = pd.get_dummies(missing_data[features], drop_first=True)\n",
    "X_missing = X_missing.reindex(columns=X_train.columns, fill_value=0)\n",
    "\n",
    "# 5. Latih model RandomForestClassifier\n",
    "model = RandomForestClassifier(random_state=42)\n",
    "model.fit(X_train, y_train)\n",
    "\n",
    "# 6. Prediksi missing values\n",
    "missing_data['Aircraft_encoded'] = model.predict(X_missing)\n",
    "\n",
    "# 7. Masukkan prediksi ke data asli\n",
    "data.loc[data['Aircraft'].isnull(), 'Aircraft'] = label_encoder.inverse_transform(missing_data['Aircraft_encoded'])\n",
    "\n",
    "# 8. Hapus kolom encoded yang tidak diperlukan\n",
    "data.drop(columns=['Aircraft_encoded'], inplace=True)\n",
    "\n",
    "# 9. Verifikasi hasil\n",
    "print(\"Jumlah missing values setelah imputasi:\", data['Aircraft'].isnull().sum())"
   ]
  },
  {
   "cell_type": "code",
   "execution_count": 93,
   "metadata": {},
   "outputs": [
    {
     "name": "stdout",
     "output_type": "stream",
     "text": [
      "0\n",
      "[1 2 4 3 5]\n"
     ]
    }
   ],
   "source": [
    "# menangani missing value pada kolom wifi&connectivity menggunakan random forest regressor\n",
    "from sklearn.ensemble import RandomForestRegressor\n",
    "import numpy as np\n",
    "\n",
    "# Fitur untuk model prediksi\n",
    "features = ['SeatComfort', 'ValueForMoney', 'Food&Beverages', 'InflightEntertainment']\n",
    "\n",
    "# Split data: rows with missing and without missing values\n",
    "train_data = data[data['Wifi&Connectivity'].notnull()].copy()\n",
    "missing_data = data[data['Wifi&Connectivity'].isnull()].copy()\n",
    "\n",
    "# Pastikan fitur tidak ada NaN\n",
    "train_data = train_data.dropna(subset=features)\n",
    "\n",
    "# Fitur dan target untuk model\n",
    "X_train = train_data[features]\n",
    "y_train = train_data['Wifi&Connectivity']\n",
    "\n",
    "# Model untuk memprediksi Wifi&Connectivity\n",
    "model = RandomForestRegressor(random_state=42)\n",
    "model.fit(X_train, y_train)\n",
    "\n",
    "# Prediksi untuk rows dengan missing value\n",
    "X_missing = missing_data[features]\n",
    "predicted_values = model.predict(X_missing)\n",
    "\n",
    "# Pembulatan nilai prediksi ke angka terdekat antara 1 dan 5\n",
    "predicted_values_rounded = np.round(predicted_values).astype(int)\n",
    "\n",
    "# Pastikan nilai prediksi berada di dalam rentang 1 hingga 5\n",
    "predicted_values_rounded = np.clip(predicted_values_rounded, 1, 5)\n",
    "\n",
    "# Masukkan kembali prediksi yang sudah dibulatkan ke data asli\n",
    "data.loc[data['Wifi&Connectivity'].isnull(), 'Wifi&Connectivity'] = predicted_values_rounded\n",
    "\n",
    "# Verifikasi apakah missing value sudah diimputasi\n",
    "print(data['Wifi&Connectivity'].isnull().sum())\n",
    "\n",
    "# Ubah kolom 'Wifi&Connectivity' menjadi tipe data int\n",
    "data['Wifi&Connectivity'] = data['Wifi&Connectivity'].astype(int)\n",
    "\n",
    "# Cek unique value pada kolom 'Wifi&Connectivity'\n",
    "print(data['Wifi&Connectivity'].unique())\n"
   ]
  },
  {
   "cell_type": "markdown",
   "metadata": {},
   "source": [
    "====== Encode =====\n"
   ]
  },
  {
   "cell_type": "code",
   "execution_count": 94,
   "metadata": {},
   "outputs": [
    {
     "name": "stdout",
     "output_type": "stream",
     "text": [
      "Jumlah nilai gagal konversi (NaT): 295\n",
      "Unique months: [11. 10.  9. nan  7.  6.  5.  4.  3.  2.  1. 12.]\n",
      "Unique years: [2023.   nan 2022. 2021. 2020. 2019. 2018. 2017. 2016. 2015. 2014. 2011.]\n",
      "Unique months after processing: [11 10  9  7  6  5  4  3  2  1 12]\n",
      "Unique years after processing: [2023 2017 2022 2021 2020 2019 2018 2016 2015 2014 2011]\n",
      "Hasil setelah encoding manual:\n",
      "        id       Satisfaction                              ReviewHeader  \\\n",
      "0        0  Very Dissatisfied    \"Service level far worse then Ryanair\"   \n",
      "1        1            Neutral  \"do not upgrade members based on status\"   \n",
      "2        2       Enthusiastic             \"Flight was smooth and quick\"   \n",
      "3        3  Very Dissatisfied             \"Absolutely hopeless airline\"   \n",
      "4        4  Very Dissatisfied        \"Customer Service is non existent\"   \n",
      "...    ...                ...                                       ...   \n",
      "3696  3696  Very Dissatisfied           British Airways customer review   \n",
      "3697  3697           Advocate           British Airways customer review   \n",
      "3698  3698     Very Satisfied           British Airways customer review   \n",
      "3699  3699          Satisfied           British Airways customer review   \n",
      "3700  3700          Satisfied           British Airways customer review   \n",
      "\n",
      "                  Name   Datetime  VerifiedReview  \\\n",
      "0              L Keele 2023-11-19            True   \n",
      "1         Austin Jones 2023-11-19            True   \n",
      "2           M A Collie 2023-11-16           False   \n",
      "3           Nigel Dean 2023-11-16            True   \n",
      "4     Gaylynne Simpson 2023-11-14           False   \n",
      "...                ...        ...             ...   \n",
      "3696       J Robertson        NaT           False   \n",
      "3697        Nick Berry        NaT           False   \n",
      "3698     Avril Barclay 2011-10-12           False   \n",
      "3699            C Volz 2011-10-11           False   \n",
      "3700         Russ King 2011-10-09           False   \n",
      "\n",
      "                                             ReviewBody TypeOfTraveller  \\\n",
      "0     4 Hours before takeoff we received a Mail stat...  Couple Leisure   \n",
      "1     I recently had a delay on British Airways from...        Business   \n",
      "2     Boarded on time, but it took ages to get to th...  Couple Leisure   \n",
      "3     5 days before the flight, we were advised by B...  Couple Leisure   \n",
      "4     We traveled to Lisbon for our dream vacation, ...  Couple Leisure   \n",
      "...                                                 ...             ...   \n",
      "3696  This was a bmi Regional operated flight on a R...    Solo Leisure   \n",
      "3697  LHR to HAM. Purser addresses all club passenge...    Solo Leisure   \n",
      "3698  My son who had worked for British Airways urge...    Solo Leisure   \n",
      "3699  London City-New York JFK via Shannon on A318 b...    Solo Leisure   \n",
      "3700  SIN-LHR BA12 B747-436 First Class. Old aircraf...    Solo Leisure   \n",
      "\n",
      "             SeatType                      Route  ...  ValueForMoney  \\\n",
      "0       Economy Class        London to Stuttgart  ...              1   \n",
      "1       Economy Class         Brussels to London  ...              2   \n",
      "2      Business Class  London Heathrow to Dublin  ...              3   \n",
      "3       Economy Class           London to Dublin  ...              1   \n",
      "4       Economy Class           London to Lisbon  ...              1   \n",
      "...               ...                        ...  ...            ...   \n",
      "3696    Economy Class          London to Calgary  ...              3   \n",
      "3697   Business Class          London to Calgary  ...              3   \n",
      "3698    Economy Class          London to Calgary  ...              4   \n",
      "3699  Premium Economy          London to Calgary  ...              1   \n",
      "3700      First Class          London to Calgary  ...              2   \n",
      "\n",
      "      Recommended    Aircraft  Food&Beverages InflightEntertainment  \\\n",
      "0              no        A320               1                     1   \n",
      "1              no        A320               1                     2   \n",
      "2             yes        A320               4                     2   \n",
      "3              no        A320               3                     2   \n",
      "4              no        A320               1                     1   \n",
      "...           ...         ...             ...                   ...   \n",
      "3696           no        A320               2                     3   \n",
      "3697          yes  Boeing 787               4                     3   \n",
      "3698          yes  Boeing 787               4                     3   \n",
      "3699           no        A320               5                     1   \n",
      "3700           no  Boeing 787               5                     2   \n",
      "\n",
      "     Wifi&Connectivity  DateFlown_m  DateFlown_y  Datetime_m  Datetime_y  \n",
      "0                    1           10            9           9          10  \n",
      "1                    2           10            9           9          10  \n",
      "2                    2           10            9           9          10  \n",
      "3                    1           11            8           9          10  \n",
      "4                    1           10            9           9          10  \n",
      "...                ...          ...          ...         ...         ...  \n",
      "3696                 3            6            4           6           4  \n",
      "3697                 2            6            4           6           4  \n",
      "3698                 3            6            4           8           0  \n",
      "3699                 1            6            4           8           0  \n",
      "3700                 2            6            4           8           0  \n",
      "\n",
      "[3701 rows x 23 columns]\n",
      "Unique values in Datetime_y and Datetime_m:\n",
      "      Datetime_y  Datetime_m\n",
      "0             10           9\n",
      "11            10           8\n",
      "39            10           7\n",
      "65             4           6\n",
      "86            10           6\n",
      "...          ...         ...\n",
      "3506           1           6\n",
      "3562           1           5\n",
      "3636           1           4\n",
      "3685           1           3\n",
      "3698           0           8\n",
      "\n",
      "[106 rows x 2 columns]\n"
     ]
    }
   ],
   "source": [
    "import pandas as pd\n",
    "import numpy as np\n",
    "from sklearn.impute import KNNImputer\n",
    "\n",
    "# 1. Bersihkan format ordinal hari (hapus 'th', 'st', 'nd', 'rd')\n",
    "data['Datetime'] = data['Datetime'].str.replace(r'(st|nd|rd|th)', '', regex=True)\n",
    "\n",
    "# 2. Konversi ke tipe datetime\n",
    "data['Datetime'] = pd.to_datetime(data['Datetime'], errors='coerce')\n",
    "\n",
    "# 3. Periksa apakah ada nilai yang gagal dikonversi\n",
    "print(\"Jumlah nilai gagal konversi (NaT):\", data['Datetime'].isna().sum())\n",
    "\n",
    "# 4. Ekstraksi bulan (Datetime_m) dan tahun (Datetime_y)\n",
    "data['Datetime_m'] = data['Datetime'].dt.month\n",
    "data['Datetime_y'] = data['Datetime'].dt.year\n",
    "\n",
    "# Periksa jumlah bulan dan tahun setelah ekstraksi\n",
    "print(\"Unique months:\", data['Datetime_m'].unique())\n",
    "print(\"Unique years:\", data['Datetime_y'].unique())\n",
    "\n",
    "# 5. Tangani missing value dengan KNN jika ada NaN\n",
    "imputer = KNNImputer(n_neighbors=5)\n",
    "data[['Datetime_m', 'Datetime_y']] = imputer.fit_transform(data[['Datetime_m', 'Datetime_y']])\n",
    "\n",
    "# 6. Pastikan bulan berada dalam rentang 1 hingga 12\n",
    "data['Datetime_m'] = np.clip(np.round(data['Datetime_m']).astype(int), 1, 12)\n",
    "\n",
    "# 7. Pastikan tahun berada dalam rentang yang valid (2011-2023)\n",
    "data['Datetime_y'] = np.clip(np.round(data['Datetime_y']).astype(int), 2011, 2023)\n",
    "\n",
    "# Periksa kembali jumlah bulan dan tahun setelah pemrosesan\n",
    "print(\"Unique months after processing:\", data['Datetime_m'].unique())\n",
    "print(\"Unique years after processing:\", data['Datetime_y'].unique())\n",
    "\n",
    "# 8. Buat mapping ordinal untuk tahun dan bulan\n",
    "# Menetapkan nilai ordinal untuk tahun dan bulan, tanpa mengganti nilai yang ada\n",
    "unique_years = sorted(data['Datetime_y'].unique())\n",
    "unique_months = sorted(data['Datetime_m'].unique())\n",
    "\n",
    "year_mapping = {year: i for i, year in enumerate(unique_years)}\n",
    "month_mapping = {month: i for i, month in enumerate(unique_months)}\n",
    "\n",
    "data['Datetime_y'] = data['Datetime_y'].map(year_mapping)\n",
    "data['Datetime_m'] = data['Datetime_m'].map(month_mapping)\n",
    "\n",
    "# 9. Verifikasi hasil\n",
    "print(\"Hasil setelah encoding manual:\")\n",
    "print(data)\n",
    "\n",
    "# Verifikasi apakah hasil sudah konsisten\n",
    "print(\"Unique values in Datetime_y and Datetime_m:\")\n",
    "print(data[['Datetime_y', 'Datetime_m']].drop_duplicates())\n",
    "\n",
    "# 10. Hapus kolom 'Datetime' setelah ekstraksi\n",
    "data.drop(columns=['Datetime'], inplace=True)\n"
   ]
  },
  {
   "cell_type": "code",
   "execution_count": 95,
   "metadata": {},
   "outputs": [
    {
     "name": "stdout",
     "output_type": "stream",
     "text": [
      "1     867\n",
      "2     426\n",
      "3     407\n",
      "8     370\n",
      "10    330\n",
      "7     313\n",
      "9     310\n",
      "4     254\n",
      "5     234\n",
      "6     190\n",
      "Name: Satisfaction, dtype: int64\n",
      "[ 1  3  8  7  2  6  4  5 10  9]\n",
      "0\n"
     ]
    }
   ],
   "source": [
    "# mengganti label satisfaction menjadi numerik (Very Dissatisfied - Dissatisfied - Neutral - Satisfied - Very Satisfied - Delighted - Extremely Satisfied - Enthusiastic - Advocate - Evangelist)\n",
    "# dengan menggunakan mapping ordinal\n",
    "satisfaction_mapping = {\n",
    "    'Very Dissatisfied': 1,\n",
    "    'Dissatisfied': 2,\n",
    "    'Neutral': 3,\n",
    "    'Satisfied': 4,\n",
    "    'Very Satisfied': 5,\n",
    "    'Delighted': 6,\n",
    "    'Extremely Satisfied': 7,\n",
    "    'Enthusiastic': 8,\n",
    "    'Advocate': 9,\n",
    "    'Evangelist': 10\n",
    "}\n",
    "\n",
    "data['Satisfaction'] = data['Satisfaction'].map(satisfaction_mapping)\n",
    "\n",
    "# Verifikasi hasil mapping\n",
    "print(data['Satisfaction'].value_counts())\n",
    "\n",
    "# menampilkan unique value pada kolom 'Satisfaction'\n",
    "print(data['Satisfaction'].unique())\n",
    "\n",
    "# menampilkan missing value pada kolom 'Satisfaction'\n",
    "print(data['Satisfaction'].isnull().sum())"
   ]
  },
  {
   "cell_type": "code",
   "execution_count": 96,
   "metadata": {},
   "outputs": [
    {
     "name": "stdout",
     "output_type": "stream",
     "text": [
      "[ True False]\n",
      "[1 0]\n"
     ]
    }
   ],
   "source": [
    "# Mengganti Kolom 'VerifiedReview' menjadi numerik dengan menggunakan mapping\n",
    "# menampilkan unique value pada kolom 'VerifiedReview'\n",
    "print(data['VerifiedReview'].unique())\n",
    "# mengganti kolom 'VerifiedReview' menjadi numerik dengan menggunakan mapping\n",
    "data['VerifiedReview'] = data['VerifiedReview'].astype(int)\n",
    "\n",
    "# menampilkan unique value pada kolom 'VerifiedReview'\n",
    "print(data['VerifiedReview'].unique())"
   ]
  },
  {
   "cell_type": "code",
   "execution_count": 97,
   "metadata": {},
   "outputs": [
    {
     "name": "stdout",
     "output_type": "stream",
     "text": [
      "['Couple Leisure' 'Business' 'Solo Leisure' 'Family Leisure']\n",
      "[2 4 1 3]\n"
     ]
    }
   ],
   "source": [
    "# # Mengganti Kolom 'TypeOfTraveller' menjadi numerik dengan menggunakan mapping\n",
    "# menampilkan unique value pada kolom 'TypeOfTraveller'\n",
    "print(data['TypeOfTraveller'].unique())\n",
    "# mengganti kolom 'TypeOfTraveller' menjadi numerik dengan menggunakan mapping\n",
    "type_of_traveller_mapping = {\n",
    "\t'Solo Leisure': 1,\n",
    "\t'Couple Leisure': 2,\n",
    "\t'Family Leisure': 3,\n",
    "\t'Business': 4,\n",
    "\t'Solo Business': 5,\n",
    "\t'Couple Business': 6,\n",
    "\t'Family Business': 7\n",
    "}\n",
    "data['TypeOfTraveller'] = data['TypeOfTraveller'].map(type_of_traveller_mapping)\n",
    "\n",
    "# menampilkan unique value pada kolom 'TypeOfTraveller'\n",
    "print(data['TypeOfTraveller'].unique())"
   ]
  },
  {
   "cell_type": "code",
   "execution_count": 98,
   "metadata": {},
   "outputs": [
    {
     "name": "stdout",
     "output_type": "stream",
     "text": [
      "['Economy Class' 'Business Class' 'Premium Economy' 'First Class']\n",
      "[2 1 4 3]\n"
     ]
    }
   ],
   "source": [
    "# Mengganti Kolom 'SeatType' menjadi numerik\n",
    "# menampilkan unique value pada kolom 'SeatType'\n",
    "print(data['SeatType'].unique())\n",
    "# mengganti kolom 'SeatType' menjadi numerik dengan menggunakan mapping\n",
    "seat_type_mapping = {\n",
    "    'Business Class': 1,\n",
    "    'Economy Class': 2,\n",
    "    'First Class': 3,\n",
    "    'Premium Economy': 4\n",
    "}\n",
    "data['SeatType'] = data['SeatType'].map(seat_type_mapping)\n",
    "\n",
    "# menampilkan unique value pada kolom 'SeatType'\n",
    "print(data['SeatType'].unique())"
   ]
  },
  {
   "cell_type": "code",
   "execution_count": 99,
   "metadata": {},
   "outputs": [
    {
     "name": "stdout",
     "output_type": "stream",
     "text": [
      "['no' 'yes']\n",
      "[0 1]\n"
     ]
    }
   ],
   "source": [
    "# Mengganti kolom 'Recommended' yes jadi 1 dan no jadi 0\n",
    "# menampilkan unique value pada kolom 'Recommended'\n",
    "print(data['Recommended'].unique())\n",
    "# mengganti kolom 'Recommended' menjadi numerik dengan menggunakan mapping\n",
    "recommended_mapping = {\n",
    "    'yes': 1,\n",
    "    'no': 0\n",
    "}\n",
    "data['Recommended'] = data['Recommended'].map(recommended_mapping)\n",
    "\n",
    "# menampilkan unique value pada kolom 'Recommended'\n",
    "print(data['Recommended'].unique())"
   ]
  },
  {
   "cell_type": "code",
   "execution_count": 100,
   "metadata": {},
   "outputs": [],
   "source": [
    "# Menghaus kolom 'Aircraft' \n",
    "data.drop(columns=['Aircraft'], inplace=True)\n",
    "data.drop(columns=['ReviewHeader'], inplace=True)\n",
    "data.drop(columns=['Name'], inplace=True)\n",
    "data.drop(columns=['ReviewBody'], inplace=True)\n",
    "data.drop(columns=['Route'], inplace=True)"
   ]
  },
  {
   "cell_type": "markdown",
   "metadata": {},
   "source": [
    "============================================== /// ========================================================"
   ]
  },
  {
   "cell_type": "code",
   "execution_count": 101,
   "metadata": {},
   "outputs": [
    {
     "name": "stdout",
     "output_type": "stream",
     "text": [
      "                             id  Satisfaction  VerifiedReview  \\\n",
      "id                     1.000000      0.221774       -0.699034   \n",
      "Satisfaction           0.221774      1.000000       -0.100908   \n",
      "VerifiedReview        -0.699034     -0.100908        1.000000   \n",
      "TypeOfTraveller       -0.309003     -0.219077        0.146877   \n",
      "SeatType               0.016627     -0.008159       -0.038031   \n",
      "SeatComfort            0.167726      0.748982       -0.081498   \n",
      "CabinStaffService      0.138554      0.728147       -0.065849   \n",
      "GroundService          0.119307      0.740926       -0.062740   \n",
      "ValueForMoney          0.227626      0.872955       -0.101929   \n",
      "Recommended            0.196341      0.865059       -0.084015   \n",
      "Food&Beverages         0.175249      0.765049       -0.057942   \n",
      "InflightEntertainment  0.056610      0.578537       -0.011254   \n",
      "Wifi&Connectivity      0.126626      0.695219       -0.041412   \n",
      "DateFlown_m            0.072413      0.017579       -0.065106   \n",
      "DateFlown_y           -0.655196     -0.112346        0.568749   \n",
      "Datetime_m             0.049912      0.005649       -0.059409   \n",
      "Datetime_y            -0.907691     -0.197349        0.642423   \n",
      "\n",
      "                       TypeOfTraveller  SeatType  SeatComfort  \\\n",
      "id                           -0.309003  0.016627     0.167726   \n",
      "Satisfaction                 -0.219077 -0.008159     0.748982   \n",
      "VerifiedReview                0.146877 -0.038031    -0.081498   \n",
      "TypeOfTraveller               1.000000 -0.078897    -0.170339   \n",
      "SeatType                     -0.078897  1.000000     0.054837   \n",
      "SeatComfort                  -0.170339  0.054837     1.000000   \n",
      "CabinStaffService            -0.142132 -0.040917     0.604300   \n",
      "GroundService                -0.122175  0.003192     0.587841   \n",
      "ValueForMoney                -0.222145 -0.003956     0.711360   \n",
      "Recommended                  -0.204521 -0.027384     0.660229   \n",
      "Food&Beverages               -0.190142 -0.038696     0.637272   \n",
      "InflightEntertainment        -0.113096  0.038835     0.570183   \n",
      "Wifi&Connectivity            -0.157504  0.010788     0.651374   \n",
      "DateFlown_m                  -0.031967  0.025529     0.015625   \n",
      "DateFlown_y                  -0.026562 -0.054530    -0.077570   \n",
      "Datetime_m                    0.012809  0.029060     0.006405   \n",
      "Datetime_y                    0.222149 -0.036742    -0.147539   \n",
      "\n",
      "                       CabinStaffService  GroundService  ValueForMoney  \\\n",
      "id                              0.138554       0.119307       0.227626   \n",
      "Satisfaction                    0.728147       0.740926       0.872955   \n",
      "VerifiedReview                 -0.065849      -0.062740      -0.101929   \n",
      "TypeOfTraveller                -0.142132      -0.122175      -0.222145   \n",
      "SeatType                       -0.040917       0.003192      -0.003956   \n",
      "SeatComfort                     0.604300       0.587841       0.711360   \n",
      "CabinStaffService               1.000000       0.564991       0.665050   \n",
      "GroundService                   0.564991       1.000000       0.712066   \n",
      "ValueForMoney                   0.665050       0.712066       1.000000   \n",
      "Recommended                     0.660284       0.650387       0.800578   \n",
      "Food&Beverages                  0.725267       0.562342       0.724328   \n",
      "InflightEntertainment           0.501279       0.459880       0.558914   \n",
      "Wifi&Connectivity               0.566811       0.568594       0.712347   \n",
      "DateFlown_m                    -0.002384      -0.014768       0.017441   \n",
      "DateFlown_y                    -0.067086      -0.128161      -0.108513   \n",
      "Datetime_m                     -0.010577      -0.006094      -0.001033   \n",
      "Datetime_y                     -0.116791      -0.127795      -0.200747   \n",
      "\n",
      "                       Recommended  Food&Beverages  InflightEntertainment  \\\n",
      "id                        0.196341        0.175249               0.056610   \n",
      "Satisfaction              0.865059        0.765049               0.578537   \n",
      "VerifiedReview           -0.084015       -0.057942              -0.011254   \n",
      "TypeOfTraveller          -0.204521       -0.190142              -0.113096   \n",
      "SeatType                 -0.027384       -0.038696               0.038835   \n",
      "SeatComfort               0.660229        0.637272               0.570183   \n",
      "CabinStaffService         0.660284        0.725267               0.501279   \n",
      "GroundService             0.650387        0.562342               0.459880   \n",
      "ValueForMoney             0.800578        0.724328               0.558914   \n",
      "Recommended               1.000000        0.707372               0.530620   \n",
      "Food&Beverages            0.707372        1.000000               0.577448   \n",
      "InflightEntertainment     0.530620        0.577448               1.000000   \n",
      "Wifi&Connectivity         0.650215        0.640722               0.736856   \n",
      "DateFlown_m               0.023256        0.022935              -0.003982   \n",
      "DateFlown_y              -0.085766       -0.062704              -0.032544   \n",
      "Datetime_m                0.018145        0.004818              -0.013001   \n",
      "Datetime_y               -0.171381       -0.141516              -0.045255   \n",
      "\n",
      "                       Wifi&Connectivity  DateFlown_m  DateFlown_y  \\\n",
      "id                              0.126626     0.072413    -0.655196   \n",
      "Satisfaction                    0.695219     0.017579    -0.112346   \n",
      "VerifiedReview                 -0.041412    -0.065106     0.568749   \n",
      "TypeOfTraveller                -0.157504    -0.031967    -0.026562   \n",
      "SeatType                        0.010788     0.025529    -0.054530   \n",
      "SeatComfort                     0.651374     0.015625    -0.077570   \n",
      "CabinStaffService               0.566811    -0.002384    -0.067086   \n",
      "GroundService                   0.568594    -0.014768    -0.128161   \n",
      "ValueForMoney                   0.712347     0.017441    -0.108513   \n",
      "Recommended                     0.650215     0.023256    -0.085766   \n",
      "Food&Beverages                  0.640722     0.022935    -0.062704   \n",
      "InflightEntertainment           0.736856    -0.003982    -0.032544   \n",
      "Wifi&Connectivity               1.000000     0.014246    -0.043673   \n",
      "DateFlown_m                     0.014246     1.000000    -0.167239   \n",
      "DateFlown_y                    -0.043673    -0.167239     1.000000   \n",
      "Datetime_m                      0.007071     0.663698    -0.119616   \n",
      "Datetime_y                     -0.106182    -0.139256     0.780813   \n",
      "\n",
      "                       Datetime_m  Datetime_y  \n",
      "id                       0.049912   -0.907691  \n",
      "Satisfaction             0.005649   -0.197349  \n",
      "VerifiedReview          -0.059409    0.642423  \n",
      "TypeOfTraveller          0.012809    0.222149  \n",
      "SeatType                 0.029060   -0.036742  \n",
      "SeatComfort              0.006405   -0.147539  \n",
      "CabinStaffService       -0.010577   -0.116791  \n",
      "GroundService           -0.006094   -0.127795  \n",
      "ValueForMoney           -0.001033   -0.200747  \n",
      "Recommended              0.018145   -0.171381  \n",
      "Food&Beverages           0.004818   -0.141516  \n",
      "InflightEntertainment   -0.013001   -0.045255  \n",
      "Wifi&Connectivity        0.007071   -0.106182  \n",
      "DateFlown_m              0.663698   -0.139256  \n",
      "DateFlown_y             -0.119616    0.780813  \n",
      "Datetime_m               1.000000   -0.144886  \n",
      "Datetime_y              -0.144886    1.000000  \n"
     ]
    },
    {
     "data": {
      "image/png": "[encoded data removed]",
      "text/plain": [
       "<Figure size 1500x1000 with 2 Axes>"
      ]
     },
     "metadata": {},
     "output_type": "display_data"
    }
   ],
   "source": [
    "import seaborn as sns\n",
    "\n",
    "# pengecekan correlation antar kolom sebelum melakukan encoding\n",
    "correlation = data.corr()\n",
    "print(correlation)\n",
    "import matplotlib.pyplot as plt\n",
    "\n",
    "# Set the size of the plot\n",
    "plt.figure(figsize=(15, 10))\n",
    "\n",
    "# Create a heatmap to visualize the correlation matrix\n",
    "sns.heatmap(correlation, annot=True, fmt=\".2f\", cmap='coolwarm', linewidths=0.5)\n",
    "\n",
    "# Set the title of the heatmap\n",
    "plt.title('Correlation Matrix Heatmap')\n",
    "\n",
    "# Show the plot\n",
    "plt.show()"
   ]
  },
  {
   "cell_type": "code",
   "execution_count": 102,
   "metadata": {},
   "outputs": [],
   "source": [
    "# print(\"Number of unique :\", data['Aircraft'].nunique())"
   ]
  },
  {
   "cell_type": "code",
   "execution_count": 103,
   "metadata": {},
   "outputs": [
    {
     "data": {
      "text/html": [
       "<div>\n",
       "<style scoped>\n",
       "    .dataframe tbody tr th:only-of-type {\n",
       "        vertical-align: middle;\n",
       "    }\n",
       "\n",
       "    .dataframe tbody tr th {\n",
       "        vertical-align: top;\n",
       "    }\n",
       "\n",
       "    .dataframe thead th {\n",
       "        text-align: right;\n",
       "    }\n",
       "</style>\n",
       "<table border=\"1\" class=\"dataframe\">\n",
       "  <thead>\n",
       "    <tr style=\"text-align: right;\">\n",
       "      <th></th>\n",
       "      <th>id</th>\n",
       "      <th>Satisfaction</th>\n",
       "      <th>VerifiedReview</th>\n",
       "      <th>TypeOfTraveller</th>\n",
       "      <th>SeatType</th>\n",
       "      <th>SeatComfort</th>\n",
       "      <th>CabinStaffService</th>\n",
       "      <th>GroundService</th>\n",
       "      <th>ValueForMoney</th>\n",
       "      <th>Recommended</th>\n",
       "      <th>Food&amp;Beverages</th>\n",
       "      <th>InflightEntertainment</th>\n",
       "      <th>Wifi&amp;Connectivity</th>\n",
       "      <th>DateFlown_m</th>\n",
       "      <th>DateFlown_y</th>\n",
       "      <th>Datetime_m</th>\n",
       "      <th>Datetime_y</th>\n",
       "    </tr>\n",
       "  </thead>\n",
       "  <tbody>\n",
       "    <tr>\n",
       "      <th>0</th>\n",
       "      <td>0</td>\n",
       "      <td>1</td>\n",
       "      <td>1</td>\n",
       "      <td>2</td>\n",
       "      <td>2</td>\n",
       "      <td>1</td>\n",
       "      <td>1</td>\n",
       "      <td>1</td>\n",
       "      <td>1</td>\n",
       "      <td>0</td>\n",
       "      <td>1</td>\n",
       "      <td>1</td>\n",
       "      <td>1</td>\n",
       "      <td>10</td>\n",
       "      <td>9</td>\n",
       "      <td>9</td>\n",
       "      <td>10</td>\n",
       "    </tr>\n",
       "    <tr>\n",
       "      <th>1</th>\n",
       "      <td>1</td>\n",
       "      <td>3</td>\n",
       "      <td>1</td>\n",
       "      <td>4</td>\n",
       "      <td>2</td>\n",
       "      <td>2</td>\n",
       "      <td>3</td>\n",
       "      <td>1</td>\n",
       "      <td>2</td>\n",
       "      <td>0</td>\n",
       "      <td>1</td>\n",
       "      <td>2</td>\n",
       "      <td>2</td>\n",
       "      <td>10</td>\n",
       "      <td>9</td>\n",
       "      <td>9</td>\n",
       "      <td>10</td>\n",
       "    </tr>\n",
       "    <tr>\n",
       "      <th>2</th>\n",
       "      <td>2</td>\n",
       "      <td>8</td>\n",
       "      <td>0</td>\n",
       "      <td>2</td>\n",
       "      <td>1</td>\n",
       "      <td>3</td>\n",
       "      <td>3</td>\n",
       "      <td>4</td>\n",
       "      <td>3</td>\n",
       "      <td>1</td>\n",
       "      <td>4</td>\n",
       "      <td>2</td>\n",
       "      <td>2</td>\n",
       "      <td>10</td>\n",
       "      <td>9</td>\n",
       "      <td>9</td>\n",
       "      <td>10</td>\n",
       "    </tr>\n",
       "    <tr>\n",
       "      <th>3</th>\n",
       "      <td>3</td>\n",
       "      <td>1</td>\n",
       "      <td>1</td>\n",
       "      <td>2</td>\n",
       "      <td>2</td>\n",
       "      <td>3</td>\n",
       "      <td>3</td>\n",
       "      <td>1</td>\n",
       "      <td>1</td>\n",
       "      <td>0</td>\n",
       "      <td>3</td>\n",
       "      <td>2</td>\n",
       "      <td>1</td>\n",
       "      <td>11</td>\n",
       "      <td>8</td>\n",
       "      <td>9</td>\n",
       "      <td>10</td>\n",
       "    </tr>\n",
       "    <tr>\n",
       "      <th>4</th>\n",
       "      <td>4</td>\n",
       "      <td>1</td>\n",
       "      <td>0</td>\n",
       "      <td>2</td>\n",
       "      <td>2</td>\n",
       "      <td>1</td>\n",
       "      <td>1</td>\n",
       "      <td>1</td>\n",
       "      <td>1</td>\n",
       "      <td>0</td>\n",
       "      <td>1</td>\n",
       "      <td>1</td>\n",
       "      <td>1</td>\n",
       "      <td>10</td>\n",
       "      <td>9</td>\n",
       "      <td>9</td>\n",
       "      <td>10</td>\n",
       "    </tr>\n",
       "  </tbody>\n",
       "</table>\n",
       "</div>"
      ],
      "text/plain": [
       "   id  Satisfaction  VerifiedReview  TypeOfTraveller  SeatType  SeatComfort  \\\n",
       "0   0             1               1                2         2            1   \n",
       "1   1             3               1                4         2            2   \n",
       "2   2             8               0                2         1            3   \n",
       "3   3             1               1                2         2            3   \n",
       "4   4             1               0                2         2            1   \n",
       "\n",
       "   CabinStaffService  GroundService  ValueForMoney  Recommended  \\\n",
       "0                  1              1              1            0   \n",
       "1                  3              1              2            0   \n",
       "2                  3              4              3            1   \n",
       "3                  3              1              1            0   \n",
       "4                  1              1              1            0   \n",
       "\n",
       "   Food&Beverages  InflightEntertainment  Wifi&Connectivity  DateFlown_m  \\\n",
       "0               1                      1                  1           10   \n",
       "1               1                      2                  2           10   \n",
       "2               4                      2                  2           10   \n",
       "3               3                      2                  1           11   \n",
       "4               1                      1                  1           10   \n",
       "\n",
       "   DateFlown_y  Datetime_m  Datetime_y  \n",
       "0            9           9          10  \n",
       "1            9           9          10  \n",
       "2            9           9          10  \n",
       "3            8           9          10  \n",
       "4            9           9          10  "
      ]
     },
     "metadata": {},
     "output_type": "display_data"
    }
   ],
   "source": [
    "display(data.head())"
   ]
  },
  {
   "cell_type": "code",
   "execution_count": 104,
   "metadata": {},
   "outputs": [
    {
     "data": {
      "text/plain": [
       "id                       int64\n",
       "Satisfaction             int64\n",
       "VerifiedReview           int32\n",
       "TypeOfTraveller          int64\n",
       "SeatType                 int64\n",
       "SeatComfort              int32\n",
       "CabinStaffService        int32\n",
       "GroundService            int32\n",
       "ValueForMoney            int32\n",
       "Recommended              int64\n",
       "Food&Beverages           int32\n",
       "InflightEntertainment    int32\n",
       "Wifi&Connectivity        int32\n",
       "DateFlown_m              int32\n",
       "DateFlown_y              int32\n",
       "Datetime_m               int64\n",
       "Datetime_y               int64\n",
       "dtype: object"
      ]
     },
     "execution_count": 104,
     "metadata": {},
     "output_type": "execute_result"
    }
   ],
   "source": [
    "data.isnull().sum()\n",
    "data.dtypes"
   ]
  },
  {
   "cell_type": "code",
   "execution_count": 105,
   "metadata": {},
   "outputs": [
    {
     "name": "stdout",
     "output_type": "stream",
     "text": [
      "1     867\n",
      "2     426\n",
      "3     407\n",
      "8     370\n",
      "10    330\n",
      "7     313\n",
      "9     310\n",
      "4     254\n",
      "5     234\n",
      "6     190\n",
      "Name: Satisfaction, dtype: int64\n"
     ]
    }
   ],
   "source": [
    "# print berapa banyak data satisfaction yang ada\n",
    "print(data['Satisfaction'].value_counts())"
   ]
  },
  {
   "cell_type": "markdown",
   "metadata": {},
   "source": [
    "SPLIT DATA"
   ]
  },
  {
   "cell_type": "code",
   "execution_count": 106,
   "metadata": {},
   "outputs": [
    {
     "data": {
      "image/png": "[encoded data removed]",
      "text/plain": [
       "<Figure size 1200x1800 with 6 Axes>"
      ]
     },
     "metadata": {},
     "output_type": "display_data"
    }
   ],
   "source": [
    "import pandas as pd\n",
    "import numpy as np\n",
    "\n",
    "# Membuat dataset dengan 3075 data\n",
    "n_data_per_class = 615  # Total 3075 / 5 classes\n",
    "data = pd.DataFrame({\n",
    "    'Satisfaction': np.repeat([\"Very Dissatisfied\", \"Dissatisfied\", \"Neutral\", \"Satisfied\", \"Very Satisfied\"], n_data_per_class),\n",
    "    'Recommended': np.random.randint(1, 100, size=3075),\n",
    "    'ValueForMoney': np.random.randint(1, 100, size=3075),\n",
    "    'Food&Beverages': np.random.randint(1, 100, size=3075),\n",
    "    'SeatComfort': np.random.randint(1, 100, size=3075),\n",
    "    'GroundService': np.random.randint(1, 100, size=3075),\n",
    "    'CabinStaffService': np.random.randint(1, 100, size=3075),\n",
    "    'Wifi&Connectivity': np.random.randint(1, 100, size=3075),\n",
    "    'InflightEntertainment': np.random.randint(1, 100, size=3075)\n",
    "})\n",
    "\n",
    "\n",
    "selected_features = [\n",
    "    'Recommended', 'ValueForMoney', 'Food&Beverages', 'SeatComfort',\n",
    "    'GroundService', 'CabinStaffService', 'Wifi&Connectivity', 'InflightEntertainment'\n",
    "]\n",
    "\n",
    "X = data[selected_features]\n",
    "y = data['Satisfaction']\n",
    "\n",
    "# Configurations\n",
    "configurations = {\n",
    "    \"50:50\": 0.5,\n",
    "    \"70:30\": 0.7,\n",
    "    \"90:10\": 0.9,\n",
    "}\n",
    "\n",
    "fig, axes = plt.subplots(len(configurations), 2, figsize=(12, 18))\n",
    "axes = axes.ravel()\n",
    "\n",
    "for i, (config_name, train_ratio) in enumerate(configurations.items()):\n",
    "    # Stratified splitting\n",
    "    X_train, X_test, y_train, y_test = train_test_split(\n",
    "        X, y, train_size=train_ratio, stratify=y, random_state=42\n",
    "    )\n",
    "\n",
    "    # Train data visualization\n",
    "    train_counts = y_train.value_counts()\n",
    "    bars_train = train_counts.plot.bar(\n",
    "        ax=axes[2 * i], color='blue', alpha=0.7, edgecolor='black'\n",
    "    )\n",
    "    axes[2 * i].set_title(f\"{config_name} - Train Data\")\n",
    "    axes[2 * i].set_xlabel(\"Satisfaction\")\n",
    "    axes[2 * i].set_ylabel(\"Count\")\n",
    "\n",
    "    # Add total count labels centered on bars (Train Data)\n",
    "    for bar in bars_train.patches:\n",
    "        height = bar.get_height()\n",
    "        axes[2 * i].text(bar.get_x() + bar.get_width() / 2, height / 2, str(int(height)), ha='center', va='center', fontsize=10, color='white')\n",
    "\n",
    "    # Test data visualization\n",
    "    test_counts = y_test.value_counts()\n",
    "    bars_test = test_counts.plot.bar(\n",
    "        ax=axes[2 * i + 1], color='orange', alpha=0.7, edgecolor='black'\n",
    "    )\n",
    "    axes[2 * i + 1].set_title(f\"{config_name} - Test Data\")\n",
    "    axes[2 * i + 1].set_xlabel(\"Satisfaction\")\n",
    "    axes[2 * i + 1].set_ylabel(\"Count\")\n",
    "\n",
    "    # Add total count labels centered on bars (Test Data)\n",
    "    for bar in bars_test.patches:\n",
    "        height = bar.get_height()\n",
    "        axes[2 * i + 1].text(bar.get_x() + bar.get_width() / 2, height / 2, str(int(height)), ha='center', va='center', fontsize=10, color='white')\n",
    "\n",
    "plt.tight_layout()\n",
    "plt.show()\n"
   ]
  },
  {
   "cell_type": "markdown",
   "metadata": {},
   "source": [
    "MODEL MLP"
   ]
  },
  {
   "cell_type": "code",
   "execution_count": 107,
   "metadata": {},
   "outputs": [
    {
     "name": "stderr",
     "output_type": "stream",
     "text": [
      "c:\\Users\\waisl\\anaconda3\\lib\\site-packages\\sklearn\\preprocessing\\_encoders.py:828: FutureWarning: `sparse` was renamed to `sparse_output` in version 1.2 and will be removed in 1.4. `sparse_output` is ignored unless you leave `sparse` to its default value.\n",
      "  warnings.warn(\n"
     ]
    },
    {
     "name": "stdout",
     "output_type": "stream",
     "text": [
      "Epoch 100/1000, Loss: 0.1970346041446777\n",
      "Epoch 200/1000, Loss: 0.19691696082392074\n",
      "Epoch 300/1000, Loss: 0.1913052388704052\n",
      "Epoch 400/1000, Loss: 0.19580670279003495\n",
      "Epoch 500/1000, Loss: 0.19546751049374889\n",
      "Epoch 600/1000, Loss: 0.17142014320180513\n",
      "Epoch 700/1000, Loss: 0.19759240182681695\n",
      "Epoch 800/1000, Loss: 0.18432833305757604\n",
      "Epoch 900/1000, Loss: 0.1946442245402062\n",
      "Epoch 1000/1000, Loss: 0.19579052759254637\n",
      "Test Accuracy: 20.13%\n"
     ]
    }
   ],
   "source": [
    "from sklearn.preprocessing import OneHotEncoder\n",
    "\n",
    "# Define a basic MLP from scratch\n",
    "class MLP:\n",
    "    def __init__(self, input_size, hidden_size, output_size, learning_rate=0.01):\n",
    "        self.input_size = input_size\n",
    "        self.hidden_size = hidden_size\n",
    "        self.output_size = output_size\n",
    "        self.learning_rate = learning_rate\n",
    "\n",
    "        # Initialize weights\n",
    "        self.W1 = np.random.randn(input_size, hidden_size) * 0.01\n",
    "        self.b1 = np.zeros((1, hidden_size))\n",
    "        self.W2 = np.random.randn(hidden_size, output_size) * 0.01\n",
    "        self.b2 = np.zeros((1, output_size))\n",
    "\n",
    "    def sigmoid(self, z):\n",
    "        return 1 / (1 + np.exp(-z))\n",
    "\n",
    "    def sigmoid_derivative(self, z):\n",
    "        return z * (1 - z)\n",
    "\n",
    "    def forward(self, X):\n",
    "        self.z1 = np.dot(X, self.W1) + self.b1\n",
    "        self.a1 = self.sigmoid(self.z1)\n",
    "        self.z2 = np.dot(self.a1, self.W2) + self.b2\n",
    "        self.a2 = self.sigmoid(self.z2)\n",
    "        return self.a2\n",
    "\n",
    "    def backward(self, X, y, output):\n",
    "        # Loss gradient\n",
    "        output_error = y - output\n",
    "        output_delta = output_error * self.sigmoid_derivative(output)\n",
    "\n",
    "        # Hidden layer gradient\n",
    "        hidden_error = np.dot(output_delta, self.W2.T)\n",
    "        hidden_delta = hidden_error * self.sigmoid_derivative(self.a1)\n",
    "\n",
    "        # Update weights and biases\n",
    "        self.W2 += np.dot(self.a1.T, output_delta) * self.learning_rate\n",
    "        self.b2 += np.sum(output_delta, axis=0, keepdims=True) * self.learning_rate\n",
    "        self.W1 += np.dot(X.T, hidden_delta) * self.learning_rate\n",
    "        self.b1 += np.sum(hidden_delta, axis=0, keepdims=True) * self.learning_rate\n",
    "\n",
    "    def train(self, X, y, epochs=1000):\n",
    "        for epoch in range(epochs):\n",
    "            output = self.forward(X)\n",
    "            self.backward(X, y, output)\n",
    "            if (epoch + 1) % 100 == 0:\n",
    "                loss = np.mean(np.square(y - output))\n",
    "                print(f\"Epoch {epoch + 1}/{epochs}, Loss: {loss}\")\n",
    "\n",
    "    def predict(self, X):\n",
    "        output = self.forward(X)\n",
    "        return np.argmax(output, axis=1)\n",
    "\n",
    "# Prepare data for training\n",
    "X_train_np = X_train.to_numpy()\n",
    "y_train_np = y_train.to_numpy().reshape(-1, 1)\n",
    "X_test_np = X_test.to_numpy()\n",
    "y_test_np = y_test.to_numpy().reshape(-1, 1)\n",
    "\n",
    "# One-hot encode the target variables\n",
    "encoder = OneHotEncoder(sparse=False)\n",
    "y_train_onehot = encoder.fit_transform(y_train_np)\n",
    "y_test_onehot = encoder.transform(y_test_np)\n",
    "\n",
    "# Train MLP\n",
    "mlp = MLP(input_size=X_train_np.shape[1], hidden_size=10, output_size=y_train_onehot.shape[1], learning_rate=0.01)\n",
    "mlp.train(X_train_np, y_train_onehot, epochs=1000)\n",
    "\n",
    "# Evaluate the model\n",
    "predictions = mlp.predict(X_test_np)\n",
    "y_test_labels = np.argmax(y_test_onehot, axis=1)\n",
    "accuracy = np.mean(predictions == y_test_labels)\n",
    "print(f\"Test Accuracy: {accuracy * 100:.2f}%\")\n"
   ]
  },
  {
   "cell_type": "code",
   "execution_count": 108,
   "metadata": {},
   "outputs": [
    {
     "name": "stdout",
     "output_type": "stream",
     "text": [
      "Test Accuracy: 20.13%\n"
     ]
    }
   ],
   "source": [
    "# Menggunakan MLPClassifier dari sklearn\n",
    "from sklearn.neural_network import MLPClassifier\n",
    "from sklearn.metrics import accuracy_score\n",
    "\n",
    "# Inisialisasi MLPClassifier\n",
    "mlp = MLPClassifier(hidden_layer_sizes=(10,), max_iter=1000, learning_rate_init=0.01, random_state=42)\n",
    "\n",
    "# Latih model\n",
    "mlp.fit(X_train, y_train)\n",
    "\n",
    "# Evaluasi model\n",
    "accuracy = mlp.score(X_test, y_test)\n",
    "print(f\"Test Accuracy: {accuracy * 100:.2f}%\")"
   ]
  },
  {
   "cell_type": "markdown",
   "metadata": {},
   "source": [
    "TENSOR FLOW"
   ]
  },
  {
   "cell_type": "code",
   "execution_count": 109,
   "metadata": {},
   "outputs": [
    {
     "name": "stderr",
     "output_type": "stream",
     "text": [
      "c:\\Users\\waisl\\anaconda3\\lib\\site-packages\\keras\\src\\layers\\core\\dense.py:87: UserWarning: Do not pass an `input_shape`/`input_dim` argument to a layer. When using Sequential models, prefer using an `Input(shape)` object as the first layer in the model instead.\n",
      "  super().__init__(activity_regularizer=activity_regularizer, **kwargs)\n"
     ]
    },
    {
     "name": "stdout",
     "output_type": "stream",
     "text": [
      "\u001b[1m3/3\u001b[0m \u001b[32m━━━━━━━━━━━━━━━━━━━━\u001b[0m\u001b[37m\u001b[0m \u001b[1m0s\u001b[0m 28ms/step\n",
      "\u001b[1m3/3\u001b[0m \u001b[32m━━━━━━━━━━━━━━━━━━━━\u001b[0m\u001b[37m\u001b[0m \u001b[1m0s\u001b[0m 9ms/step \n"
     ]
    },
    {
     "name": "stderr",
     "output_type": "stream",
     "text": [
      "c:\\Users\\waisl\\anaconda3\\lib\\site-packages\\keras\\src\\layers\\core\\dense.py:87: UserWarning: Do not pass an `input_shape`/`input_dim` argument to a layer. When using Sequential models, prefer using an `Input(shape)` object as the first layer in the model instead.\n",
      "  super().__init__(activity_regularizer=activity_regularizer, **kwargs)\n"
     ]
    },
    {
     "name": "stdout",
     "output_type": "stream",
     "text": [
      "\u001b[1m3/3\u001b[0m \u001b[32m━━━━━━━━━━━━━━━━━━━━\u001b[0m\u001b[37m\u001b[0m \u001b[1m0s\u001b[0m 23ms/step\n",
      "\u001b[1m3/3\u001b[0m \u001b[32m━━━━━━━━━━━━━━━━━━━━\u001b[0m\u001b[37m\u001b[0m \u001b[1m0s\u001b[0m 10ms/step\n"
     ]
    },
    {
     "name": "stderr",
     "output_type": "stream",
     "text": [
      "c:\\Users\\waisl\\anaconda3\\lib\\site-packages\\keras\\src\\layers\\core\\dense.py:87: UserWarning: Do not pass an `input_shape`/`input_dim` argument to a layer. When using Sequential models, prefer using an `Input(shape)` object as the first layer in the model instead.\n",
      "  super().__init__(activity_regularizer=activity_regularizer, **kwargs)\n"
     ]
    },
    {
     "name": "stdout",
     "output_type": "stream",
     "text": [
      "\u001b[1m3/3\u001b[0m \u001b[32m━━━━━━━━━━━━━━━━━━━━\u001b[0m\u001b[37m\u001b[0m \u001b[1m0s\u001b[0m 25ms/step\n",
      "\u001b[1m3/3\u001b[0m \u001b[32m━━━━━━━━━━━━━━━━━━━━\u001b[0m\u001b[37m\u001b[0m \u001b[1m0s\u001b[0m 13ms/step\n"
     ]
    },
    {
     "name": "stderr",
     "output_type": "stream",
     "text": [
      "c:\\Users\\waisl\\anaconda3\\lib\\site-packages\\keras\\src\\layers\\core\\dense.py:87: UserWarning: Do not pass an `input_shape`/`input_dim` argument to a layer. When using Sequential models, prefer using an `Input(shape)` object as the first layer in the model instead.\n",
      "  super().__init__(activity_regularizer=activity_regularizer, **kwargs)\n"
     ]
    },
    {
     "name": "stdout",
     "output_type": "stream",
     "text": [
      "\u001b[1m3/3\u001b[0m \u001b[32m━━━━━━━━━━━━━━━━━━━━\u001b[0m\u001b[37m\u001b[0m \u001b[1m0s\u001b[0m 25ms/step\n",
      "\u001b[1m3/3\u001b[0m \u001b[32m━━━━━━━━━━━━━━━━━━━━\u001b[0m\u001b[37m\u001b[0m \u001b[1m0s\u001b[0m 9ms/step \n"
     ]
    },
    {
     "name": "stderr",
     "output_type": "stream",
     "text": [
      "c:\\Users\\waisl\\anaconda3\\lib\\site-packages\\keras\\src\\layers\\core\\dense.py:87: UserWarning: Do not pass an `input_shape`/`input_dim` argument to a layer. When using Sequential models, prefer using an `Input(shape)` object as the first layer in the model instead.\n",
      "  super().__init__(activity_regularizer=activity_regularizer, **kwargs)\n"
     ]
    },
    {
     "name": "stdout",
     "output_type": "stream",
     "text": [
      "\u001b[1m3/3\u001b[0m \u001b[32m━━━━━━━━━━━━━━━━━━━━\u001b[0m\u001b[37m\u001b[0m \u001b[1m0s\u001b[0m 29ms/step\n",
      "\u001b[1m3/3\u001b[0m \u001b[32m━━━━━━━━━━━━━━━━━━━━\u001b[0m\u001b[37m\u001b[0m \u001b[1m0s\u001b[0m 10ms/step\n"
     ]
    },
    {
     "name": "stderr",
     "output_type": "stream",
     "text": [
      "c:\\Users\\waisl\\anaconda3\\lib\\site-packages\\keras\\src\\layers\\core\\dense.py:87: UserWarning: Do not pass an `input_shape`/`input_dim` argument to a layer. When using Sequential models, prefer using an `Input(shape)` object as the first layer in the model instead.\n",
      "  super().__init__(activity_regularizer=activity_regularizer, **kwargs)\n"
     ]
    },
    {
     "name": "stdout",
     "output_type": "stream",
     "text": [
      "\u001b[1m3/3\u001b[0m \u001b[32m━━━━━━━━━━━━━━━━━━━━\u001b[0m\u001b[37m\u001b[0m \u001b[1m0s\u001b[0m 25ms/step\n",
      "\u001b[1m3/3\u001b[0m \u001b[32m━━━━━━━━━━━━━━━━━━━━\u001b[0m\u001b[37m\u001b[0m \u001b[1m0s\u001b[0m 10ms/step\n"
     ]
    },
    {
     "name": "stderr",
     "output_type": "stream",
     "text": [
      "c:\\Users\\waisl\\anaconda3\\lib\\site-packages\\keras\\src\\layers\\core\\dense.py:87: UserWarning: Do not pass an `input_shape`/`input_dim` argument to a layer. When using Sequential models, prefer using an `Input(shape)` object as the first layer in the model instead.\n",
      "  super().__init__(activity_regularizer=activity_regularizer, **kwargs)\n"
     ]
    },
    {
     "name": "stdout",
     "output_type": "stream",
     "text": [
      "\u001b[1m3/3\u001b[0m \u001b[32m━━━━━━━━━━━━━━━━━━━━\u001b[0m\u001b[37m\u001b[0m \u001b[1m0s\u001b[0m 40ms/step\n",
      "\u001b[1m3/3\u001b[0m \u001b[32m━━━━━━━━━━━━━━━━━━━━\u001b[0m\u001b[37m\u001b[0m \u001b[1m0s\u001b[0m 11ms/step\n"
     ]
    },
    {
     "name": "stderr",
     "output_type": "stream",
     "text": [
      "c:\\Users\\waisl\\anaconda3\\lib\\site-packages\\keras\\src\\layers\\core\\dense.py:87: UserWarning: Do not pass an `input_shape`/`input_dim` argument to a layer. When using Sequential models, prefer using an `Input(shape)` object as the first layer in the model instead.\n",
      "  super().__init__(activity_regularizer=activity_regularizer, **kwargs)\n"
     ]
    },
    {
     "name": "stdout",
     "output_type": "stream",
     "text": [
      "\u001b[1m3/3\u001b[0m \u001b[32m━━━━━━━━━━━━━━━━━━━━\u001b[0m\u001b[37m\u001b[0m \u001b[1m0s\u001b[0m 29ms/step\n",
      "\u001b[1m3/3\u001b[0m \u001b[32m━━━━━━━━━━━━━━━━━━━━\u001b[0m\u001b[37m\u001b[0m \u001b[1m0s\u001b[0m 9ms/step \n"
     ]
    },
    {
     "name": "stderr",
     "output_type": "stream",
     "text": [
      "c:\\Users\\waisl\\anaconda3\\lib\\site-packages\\keras\\src\\layers\\core\\dense.py:87: UserWarning: Do not pass an `input_shape`/`input_dim` argument to a layer. When using Sequential models, prefer using an `Input(shape)` object as the first layer in the model instead.\n",
      "  super().__init__(activity_regularizer=activity_regularizer, **kwargs)\n"
     ]
    },
    {
     "name": "stdout",
     "output_type": "stream",
     "text": [
      "\u001b[1m3/3\u001b[0m \u001b[32m━━━━━━━━━━━━━━━━━━━━\u001b[0m\u001b[37m\u001b[0m \u001b[1m0s\u001b[0m 27ms/step\n",
      "\u001b[1m3/3\u001b[0m \u001b[32m━━━━━━━━━━━━━━━━━━━━\u001b[0m\u001b[37m\u001b[0m \u001b[1m0s\u001b[0m 9ms/step \n"
     ]
    },
    {
     "name": "stderr",
     "output_type": "stream",
     "text": [
      "c:\\Users\\waisl\\anaconda3\\lib\\site-packages\\keras\\src\\layers\\core\\dense.py:87: UserWarning: Do not pass an `input_shape`/`input_dim` argument to a layer. When using Sequential models, prefer using an `Input(shape)` object as the first layer in the model instead.\n",
      "  super().__init__(activity_regularizer=activity_regularizer, **kwargs)\n"
     ]
    },
    {
     "name": "stdout",
     "output_type": "stream",
     "text": [
      "\u001b[1m3/3\u001b[0m \u001b[32m━━━━━━━━━━━━━━━━━━━━\u001b[0m\u001b[37m\u001b[0m \u001b[1m0s\u001b[0m 26ms/step\n",
      "\u001b[1m3/3\u001b[0m \u001b[32m━━━━━━━━━━━━━━━━━━━━\u001b[0m\u001b[37m\u001b[0m \u001b[1m0s\u001b[0m 9ms/step \n"
     ]
    },
    {
     "name": "stderr",
     "output_type": "stream",
     "text": [
      "c:\\Users\\waisl\\anaconda3\\lib\\site-packages\\keras\\src\\layers\\core\\dense.py:87: UserWarning: Do not pass an `input_shape`/`input_dim` argument to a layer. When using Sequential models, prefer using an `Input(shape)` object as the first layer in the model instead.\n",
      "  super().__init__(activity_regularizer=activity_regularizer, **kwargs)\n"
     ]
    },
    {
     "name": "stdout",
     "output_type": "stream",
     "text": [
      "\u001b[1m3/3\u001b[0m \u001b[32m━━━━━━━━━━━━━━━━━━━━\u001b[0m\u001b[37m\u001b[0m \u001b[1m0s\u001b[0m 26ms/step\n",
      "\u001b[1m3/3\u001b[0m \u001b[32m━━━━━━━━━━━━━━━━━━━━\u001b[0m\u001b[37m\u001b[0m \u001b[1m0s\u001b[0m 10ms/step\n"
     ]
    },
    {
     "name": "stderr",
     "output_type": "stream",
     "text": [
      "c:\\Users\\waisl\\anaconda3\\lib\\site-packages\\keras\\src\\layers\\core\\dense.py:87: UserWarning: Do not pass an `input_shape`/`input_dim` argument to a layer. When using Sequential models, prefer using an `Input(shape)` object as the first layer in the model instead.\n",
      "  super().__init__(activity_regularizer=activity_regularizer, **kwargs)\n"
     ]
    },
    {
     "name": "stdout",
     "output_type": "stream",
     "text": [
      "\u001b[1m3/3\u001b[0m \u001b[32m━━━━━━━━━━━━━━━━━━━━\u001b[0m\u001b[37m\u001b[0m \u001b[1m0s\u001b[0m 29ms/step\n",
      "\u001b[1m3/3\u001b[0m \u001b[32m━━━━━━━━━━━━━━━━━━━━\u001b[0m\u001b[37m\u001b[0m \u001b[1m0s\u001b[0m 10ms/step\n"
     ]
    },
    {
     "name": "stderr",
     "output_type": "stream",
     "text": [
      "c:\\Users\\waisl\\anaconda3\\lib\\site-packages\\keras\\src\\layers\\core\\dense.py:87: UserWarning: Do not pass an `input_shape`/`input_dim` argument to a layer. When using Sequential models, prefer using an `Input(shape)` object as the first layer in the model instead.\n",
      "  super().__init__(activity_regularizer=activity_regularizer, **kwargs)\n"
     ]
    },
    {
     "name": "stdout",
     "output_type": "stream",
     "text": [
      "\u001b[1m3/3\u001b[0m \u001b[32m━━━━━━━━━━━━━━━━━━━━\u001b[0m\u001b[37m\u001b[0m \u001b[1m0s\u001b[0m 24ms/step\n",
      "\u001b[1m3/3\u001b[0m \u001b[32m━━━━━━━━━━━━━━━━━━━━\u001b[0m\u001b[37m\u001b[0m \u001b[1m0s\u001b[0m 11ms/step\n"
     ]
    },
    {
     "name": "stderr",
     "output_type": "stream",
     "text": [
      "c:\\Users\\waisl\\anaconda3\\lib\\site-packages\\keras\\src\\layers\\core\\dense.py:87: UserWarning: Do not pass an `input_shape`/`input_dim` argument to a layer. When using Sequential models, prefer using an `Input(shape)` object as the first layer in the model instead.\n",
      "  super().__init__(activity_regularizer=activity_regularizer, **kwargs)\n"
     ]
    },
    {
     "name": "stdout",
     "output_type": "stream",
     "text": [
      "\u001b[1m3/3\u001b[0m \u001b[32m━━━━━━━━━━━━━━━━━━━━\u001b[0m\u001b[37m\u001b[0m \u001b[1m0s\u001b[0m 33ms/step\n",
      "\u001b[1m3/3\u001b[0m \u001b[32m━━━━━━━━━━━━━━━━━━━━\u001b[0m\u001b[37m\u001b[0m \u001b[1m0s\u001b[0m 10ms/step\n"
     ]
    },
    {
     "name": "stderr",
     "output_type": "stream",
     "text": [
      "c:\\Users\\waisl\\anaconda3\\lib\\site-packages\\keras\\src\\layers\\core\\dense.py:87: UserWarning: Do not pass an `input_shape`/`input_dim` argument to a layer. When using Sequential models, prefer using an `Input(shape)` object as the first layer in the model instead.\n",
      "  super().__init__(activity_regularizer=activity_regularizer, **kwargs)\n"
     ]
    },
    {
     "name": "stdout",
     "output_type": "stream",
     "text": [
      "\u001b[1m3/3\u001b[0m \u001b[32m━━━━━━━━━━━━━━━━━━━━\u001b[0m\u001b[37m\u001b[0m \u001b[1m0s\u001b[0m 26ms/step\n",
      "\u001b[1m3/3\u001b[0m \u001b[32m━━━━━━━━━━━━━━━━━━━━\u001b[0m\u001b[37m\u001b[0m \u001b[1m0s\u001b[0m 9ms/step \n"
     ]
    },
    {
     "name": "stderr",
     "output_type": "stream",
     "text": [
      "c:\\Users\\waisl\\anaconda3\\lib\\site-packages\\keras\\src\\layers\\core\\dense.py:87: UserWarning: Do not pass an `input_shape`/`input_dim` argument to a layer. When using Sequential models, prefer using an `Input(shape)` object as the first layer in the model instead.\n",
      "  super().__init__(activity_regularizer=activity_regularizer, **kwargs)\n"
     ]
    },
    {
     "name": "stdout",
     "output_type": "stream",
     "text": [
      "\u001b[1m3/3\u001b[0m \u001b[32m━━━━━━━━━━━━━━━━━━━━\u001b[0m\u001b[37m\u001b[0m \u001b[1m0s\u001b[0m 31ms/step\n",
      "\u001b[1m3/3\u001b[0m \u001b[32m━━━━━━━━━━━━━━━━━━━━\u001b[0m\u001b[37m\u001b[0m \u001b[1m0s\u001b[0m 13ms/step\n"
     ]
    },
    {
     "name": "stderr",
     "output_type": "stream",
     "text": [
      "c:\\Users\\waisl\\anaconda3\\lib\\site-packages\\keras\\src\\layers\\core\\dense.py:87: UserWarning: Do not pass an `input_shape`/`input_dim` argument to a layer. When using Sequential models, prefer using an `Input(shape)` object as the first layer in the model instead.\n",
      "  super().__init__(activity_regularizer=activity_regularizer, **kwargs)\n"
     ]
    },
    {
     "name": "stdout",
     "output_type": "stream",
     "text": [
      "\u001b[1m3/3\u001b[0m \u001b[32m━━━━━━━━━━━━━━━━━━━━\u001b[0m\u001b[37m\u001b[0m \u001b[1m0s\u001b[0m 23ms/step\n",
      "\u001b[1m3/3\u001b[0m \u001b[32m━━━━━━━━━━━━━━━━━━━━\u001b[0m\u001b[37m\u001b[0m \u001b[1m0s\u001b[0m 9ms/step \n"
     ]
    },
    {
     "name": "stderr",
     "output_type": "stream",
     "text": [
      "c:\\Users\\waisl\\anaconda3\\lib\\site-packages\\keras\\src\\layers\\core\\dense.py:87: UserWarning: Do not pass an `input_shape`/`input_dim` argument to a layer. When using Sequential models, prefer using an `Input(shape)` object as the first layer in the model instead.\n",
      "  super().__init__(activity_regularizer=activity_regularizer, **kwargs)\n"
     ]
    },
    {
     "name": "stdout",
     "output_type": "stream",
     "text": [
      "\u001b[1m3/3\u001b[0m \u001b[32m━━━━━━━━━━━━━━━━━━━━\u001b[0m\u001b[37m\u001b[0m \u001b[1m0s\u001b[0m 26ms/step\n",
      "\u001b[1m3/3\u001b[0m \u001b[32m━━━━━━━━━━━━━━━━━━━━\u001b[0m\u001b[37m\u001b[0m \u001b[1m0s\u001b[0m 9ms/step \n"
     ]
    },
    {
     "name": "stderr",
     "output_type": "stream",
     "text": [
      "c:\\Users\\waisl\\anaconda3\\lib\\site-packages\\keras\\src\\layers\\core\\dense.py:87: UserWarning: Do not pass an `input_shape`/`input_dim` argument to a layer. When using Sequential models, prefer using an `Input(shape)` object as the first layer in the model instead.\n",
      "  super().__init__(activity_regularizer=activity_regularizer, **kwargs)\n"
     ]
    },
    {
     "name": "stdout",
     "output_type": "stream",
     "text": [
      "\u001b[1m3/3\u001b[0m \u001b[32m━━━━━━━━━━━━━━━━━━━━\u001b[0m\u001b[37m\u001b[0m \u001b[1m0s\u001b[0m 26ms/step\n",
      "\u001b[1m3/3\u001b[0m \u001b[32m━━━━━━━━━━━━━━━━━━━━\u001b[0m\u001b[37m\u001b[0m \u001b[1m0s\u001b[0m 9ms/step \n"
     ]
    },
    {
     "name": "stderr",
     "output_type": "stream",
     "text": [
      "c:\\Users\\waisl\\anaconda3\\lib\\site-packages\\keras\\src\\layers\\core\\dense.py:87: UserWarning: Do not pass an `input_shape`/`input_dim` argument to a layer. When using Sequential models, prefer using an `Input(shape)` object as the first layer in the model instead.\n",
      "  super().__init__(activity_regularizer=activity_regularizer, **kwargs)\n"
     ]
    },
    {
     "name": "stdout",
     "output_type": "stream",
     "text": [
      "\u001b[1m3/3\u001b[0m \u001b[32m━━━━━━━━━━━━━━━━━━━━\u001b[0m\u001b[37m\u001b[0m \u001b[1m0s\u001b[0m 24ms/step\n",
      "\u001b[1m3/3\u001b[0m \u001b[32m━━━━━━━━━━━━━━━━━━━━\u001b[0m\u001b[37m\u001b[0m \u001b[1m0s\u001b[0m 11ms/step\n"
     ]
    },
    {
     "name": "stderr",
     "output_type": "stream",
     "text": [
      "c:\\Users\\waisl\\anaconda3\\lib\\site-packages\\keras\\src\\layers\\core\\dense.py:87: UserWarning: Do not pass an `input_shape`/`input_dim` argument to a layer. When using Sequential models, prefer using an `Input(shape)` object as the first layer in the model instead.\n",
      "  super().__init__(activity_regularizer=activity_regularizer, **kwargs)\n"
     ]
    },
    {
     "name": "stdout",
     "output_type": "stream",
     "text": [
      "\u001b[1m3/3\u001b[0m \u001b[32m━━━━━━━━━━━━━━━━━━━━\u001b[0m\u001b[37m\u001b[0m \u001b[1m0s\u001b[0m 33ms/step\n",
      "\u001b[1m3/3\u001b[0m \u001b[32m━━━━━━━━━━━━━━━━━━━━\u001b[0m\u001b[37m\u001b[0m \u001b[1m0s\u001b[0m 9ms/step \n"
     ]
    },
    {
     "name": "stderr",
     "output_type": "stream",
     "text": [
      "c:\\Users\\waisl\\anaconda3\\lib\\site-packages\\keras\\src\\layers\\core\\dense.py:87: UserWarning: Do not pass an `input_shape`/`input_dim` argument to a layer. When using Sequential models, prefer using an `Input(shape)` object as the first layer in the model instead.\n",
      "  super().__init__(activity_regularizer=activity_regularizer, **kwargs)\n"
     ]
    },
    {
     "name": "stdout",
     "output_type": "stream",
     "text": [
      "\u001b[1m3/3\u001b[0m \u001b[32m━━━━━━━━━━━━━━━━━━━━\u001b[0m\u001b[37m\u001b[0m \u001b[1m0s\u001b[0m 22ms/step\n",
      "\u001b[1m3/3\u001b[0m \u001b[32m━━━━━━━━━━━━━━━━━━━━\u001b[0m\u001b[37m\u001b[0m \u001b[1m0s\u001b[0m 9ms/step \n"
     ]
    },
    {
     "name": "stderr",
     "output_type": "stream",
     "text": [
      "c:\\Users\\waisl\\anaconda3\\lib\\site-packages\\keras\\src\\layers\\core\\dense.py:87: UserWarning: Do not pass an `input_shape`/`input_dim` argument to a layer. When using Sequential models, prefer using an `Input(shape)` object as the first layer in the model instead.\n",
      "  super().__init__(activity_regularizer=activity_regularizer, **kwargs)\n"
     ]
    },
    {
     "name": "stdout",
     "output_type": "stream",
     "text": [
      "\u001b[1m3/3\u001b[0m \u001b[32m━━━━━━━━━━━━━━━━━━━━\u001b[0m\u001b[37m\u001b[0m \u001b[1m0s\u001b[0m 23ms/step\n",
      "\u001b[1m3/3\u001b[0m \u001b[32m━━━━━━━━━━━━━━━━━━━━\u001b[0m\u001b[37m\u001b[0m \u001b[1m0s\u001b[0m 9ms/step \n"
     ]
    },
    {
     "name": "stderr",
     "output_type": "stream",
     "text": [
      "c:\\Users\\waisl\\anaconda3\\lib\\site-packages\\keras\\src\\layers\\core\\dense.py:87: UserWarning: Do not pass an `input_shape`/`input_dim` argument to a layer. When using Sequential models, prefer using an `Input(shape)` object as the first layer in the model instead.\n",
      "  super().__init__(activity_regularizer=activity_regularizer, **kwargs)\n"
     ]
    },
    {
     "name": "stdout",
     "output_type": "stream",
     "text": [
      "\u001b[1m3/3\u001b[0m \u001b[32m━━━━━━━━━━━━━━━━━━━━\u001b[0m\u001b[37m\u001b[0m \u001b[1m0s\u001b[0m 24ms/step\n",
      "\u001b[1m3/3\u001b[0m \u001b[32m━━━━━━━━━━━━━━━━━━━━\u001b[0m\u001b[37m\u001b[0m \u001b[1m0s\u001b[0m 9ms/step \n"
     ]
    },
    {
     "name": "stderr",
     "output_type": "stream",
     "text": [
      "c:\\Users\\waisl\\anaconda3\\lib\\site-packages\\keras\\src\\layers\\core\\dense.py:87: UserWarning: Do not pass an `input_shape`/`input_dim` argument to a layer. When using Sequential models, prefer using an `Input(shape)` object as the first layer in the model instead.\n",
      "  super().__init__(activity_regularizer=activity_regularizer, **kwargs)\n"
     ]
    },
    {
     "name": "stdout",
     "output_type": "stream",
     "text": [
      "\u001b[1m3/3\u001b[0m \u001b[32m━━━━━━━━━━━━━━━━━━━━\u001b[0m\u001b[37m\u001b[0m \u001b[1m0s\u001b[0m 22ms/step\n",
      "\u001b[1m3/3\u001b[0m \u001b[32m━━━━━━━━━━━━━━━━━━━━\u001b[0m\u001b[37m\u001b[0m \u001b[1m0s\u001b[0m 9ms/step \n"
     ]
    },
    {
     "name": "stderr",
     "output_type": "stream",
     "text": [
      "c:\\Users\\waisl\\anaconda3\\lib\\site-packages\\keras\\src\\layers\\core\\dense.py:87: UserWarning: Do not pass an `input_shape`/`input_dim` argument to a layer. When using Sequential models, prefer using an `Input(shape)` object as the first layer in the model instead.\n",
      "  super().__init__(activity_regularizer=activity_regularizer, **kwargs)\n"
     ]
    },
    {
     "name": "stdout",
     "output_type": "stream",
     "text": [
      "\u001b[1m3/3\u001b[0m \u001b[32m━━━━━━━━━━━━━━━━━━━━\u001b[0m\u001b[37m\u001b[0m \u001b[1m0s\u001b[0m 22ms/step\n",
      "\u001b[1m3/3\u001b[0m \u001b[32m━━━━━━━━━━━━━━━━━━━━\u001b[0m\u001b[37m\u001b[0m \u001b[1m0s\u001b[0m 10ms/step\n"
     ]
    },
    {
     "name": "stderr",
     "output_type": "stream",
     "text": [
      "c:\\Users\\waisl\\anaconda3\\lib\\site-packages\\keras\\src\\layers\\core\\dense.py:87: UserWarning: Do not pass an `input_shape`/`input_dim` argument to a layer. When using Sequential models, prefer using an `Input(shape)` object as the first layer in the model instead.\n",
      "  super().__init__(activity_regularizer=activity_regularizer, **kwargs)\n"
     ]
    },
    {
     "name": "stdout",
     "output_type": "stream",
     "text": [
      "\u001b[1m3/3\u001b[0m \u001b[32m━━━━━━━━━━━━━━━━━━━━\u001b[0m\u001b[37m\u001b[0m \u001b[1m0s\u001b[0m 23ms/step\n",
      "\u001b[1m3/3\u001b[0m \u001b[32m━━━━━━━━━━━━━━━━━━━━\u001b[0m\u001b[37m\u001b[0m \u001b[1m0s\u001b[0m 9ms/step \n"
     ]
    },
    {
     "name": "stderr",
     "output_type": "stream",
     "text": [
      "c:\\Users\\waisl\\anaconda3\\lib\\site-packages\\keras\\src\\layers\\core\\dense.py:87: UserWarning: Do not pass an `input_shape`/`input_dim` argument to a layer. When using Sequential models, prefer using an `Input(shape)` object as the first layer in the model instead.\n",
      "  super().__init__(activity_regularizer=activity_regularizer, **kwargs)\n"
     ]
    },
    {
     "name": "stdout",
     "output_type": "stream",
     "text": [
      "\u001b[1m4/4\u001b[0m \u001b[32m━━━━━━━━━━━━━━━━━━━━\u001b[0m\u001b[37m\u001b[0m \u001b[1m0s\u001b[0m 18ms/step\n",
      "\u001b[1m2/2\u001b[0m \u001b[32m━━━━━━━━━━━━━━━━━━━━\u001b[0m\u001b[37m\u001b[0m \u001b[1m0s\u001b[0m 18ms/step\n"
     ]
    },
    {
     "name": "stderr",
     "output_type": "stream",
     "text": [
      "c:\\Users\\waisl\\anaconda3\\lib\\site-packages\\keras\\src\\layers\\core\\dense.py:87: UserWarning: Do not pass an `input_shape`/`input_dim` argument to a layer. When using Sequential models, prefer using an `Input(shape)` object as the first layer in the model instead.\n",
      "  super().__init__(activity_regularizer=activity_regularizer, **kwargs)\n"
     ]
    },
    {
     "name": "stdout",
     "output_type": "stream",
     "text": [
      "\u001b[1m4/4\u001b[0m \u001b[32m━━━━━━━━━━━━━━━━━━━━\u001b[0m\u001b[37m\u001b[0m \u001b[1m0s\u001b[0m 19ms/step\n",
      "\u001b[1m2/2\u001b[0m \u001b[32m━━━━━━━━━━━━━━━━━━━━\u001b[0m\u001b[37m\u001b[0m \u001b[1m0s\u001b[0m 17ms/step\n"
     ]
    },
    {
     "name": "stderr",
     "output_type": "stream",
     "text": [
      "c:\\Users\\waisl\\anaconda3\\lib\\site-packages\\keras\\src\\layers\\core\\dense.py:87: UserWarning: Do not pass an `input_shape`/`input_dim` argument to a layer. When using Sequential models, prefer using an `Input(shape)` object as the first layer in the model instead.\n",
      "  super().__init__(activity_regularizer=activity_regularizer, **kwargs)\n"
     ]
    },
    {
     "name": "stdout",
     "output_type": "stream",
     "text": [
      "\u001b[1m4/4\u001b[0m \u001b[32m━━━━━━━━━━━━━━━━━━━━\u001b[0m\u001b[37m\u001b[0m \u001b[1m0s\u001b[0m 23ms/step\n",
      "\u001b[1m2/2\u001b[0m \u001b[32m━━━━━━━━━━━━━━━━━━━━\u001b[0m\u001b[37m\u001b[0m \u001b[1m0s\u001b[0m 20ms/step\n"
     ]
    },
    {
     "name": "stderr",
     "output_type": "stream",
     "text": [
      "c:\\Users\\waisl\\anaconda3\\lib\\site-packages\\keras\\src\\layers\\core\\dense.py:87: UserWarning: Do not pass an `input_shape`/`input_dim` argument to a layer. When using Sequential models, prefer using an `Input(shape)` object as the first layer in the model instead.\n",
      "  super().__init__(activity_regularizer=activity_regularizer, **kwargs)\n"
     ]
    },
    {
     "name": "stdout",
     "output_type": "stream",
     "text": [
      "\u001b[1m4/4\u001b[0m \u001b[32m━━━━━━━━━━━━━━━━━━━━\u001b[0m\u001b[37m\u001b[0m \u001b[1m0s\u001b[0m 19ms/step\n",
      "\u001b[1m2/2\u001b[0m \u001b[32m━━━━━━━━━━━━━━━━━━━━\u001b[0m\u001b[37m\u001b[0m \u001b[1m0s\u001b[0m 18ms/step\n"
     ]
    },
    {
     "name": "stderr",
     "output_type": "stream",
     "text": [
      "c:\\Users\\waisl\\anaconda3\\lib\\site-packages\\keras\\src\\layers\\core\\dense.py:87: UserWarning: Do not pass an `input_shape`/`input_dim` argument to a layer. When using Sequential models, prefer using an `Input(shape)` object as the first layer in the model instead.\n",
      "  super().__init__(activity_regularizer=activity_regularizer, **kwargs)\n"
     ]
    },
    {
     "name": "stdout",
     "output_type": "stream",
     "text": [
      "\u001b[1m4/4\u001b[0m \u001b[32m━━━━━━━━━━━━━━━━━━━━\u001b[0m\u001b[37m\u001b[0m \u001b[1m0s\u001b[0m 18ms/step\n",
      "\u001b[1m2/2\u001b[0m \u001b[32m━━━━━━━━━━━━━━━━━━━━\u001b[0m\u001b[37m\u001b[0m \u001b[1m0s\u001b[0m 21ms/step\n"
     ]
    },
    {
     "name": "stderr",
     "output_type": "stream",
     "text": [
      "c:\\Users\\waisl\\anaconda3\\lib\\site-packages\\keras\\src\\layers\\core\\dense.py:87: UserWarning: Do not pass an `input_shape`/`input_dim` argument to a layer. When using Sequential models, prefer using an `Input(shape)` object as the first layer in the model instead.\n",
      "  super().__init__(activity_regularizer=activity_regularizer, **kwargs)\n"
     ]
    },
    {
     "name": "stdout",
     "output_type": "stream",
     "text": [
      "\u001b[1m4/4\u001b[0m \u001b[32m━━━━━━━━━━━━━━━━━━━━\u001b[0m\u001b[37m\u001b[0m \u001b[1m0s\u001b[0m 16ms/step\n",
      "\u001b[1m2/2\u001b[0m \u001b[32m━━━━━━━━━━━━━━━━━━━━\u001b[0m\u001b[37m\u001b[0m \u001b[1m0s\u001b[0m 17ms/step\n"
     ]
    },
    {
     "name": "stderr",
     "output_type": "stream",
     "text": [
      "c:\\Users\\waisl\\anaconda3\\lib\\site-packages\\keras\\src\\layers\\core\\dense.py:87: UserWarning: Do not pass an `input_shape`/`input_dim` argument to a layer. When using Sequential models, prefer using an `Input(shape)` object as the first layer in the model instead.\n",
      "  super().__init__(activity_regularizer=activity_regularizer, **kwargs)\n"
     ]
    },
    {
     "name": "stdout",
     "output_type": "stream",
     "text": [
      "\u001b[1m4/4\u001b[0m \u001b[32m━━━━━━━━━━━━━━━━━━━━\u001b[0m\u001b[37m\u001b[0m \u001b[1m0s\u001b[0m 17ms/step\n",
      "\u001b[1m2/2\u001b[0m \u001b[32m━━━━━━━━━━━━━━━━━━━━\u001b[0m\u001b[37m\u001b[0m \u001b[1m0s\u001b[0m 17ms/step\n"
     ]
    },
    {
     "name": "stderr",
     "output_type": "stream",
     "text": [
      "c:\\Users\\waisl\\anaconda3\\lib\\site-packages\\keras\\src\\layers\\core\\dense.py:87: UserWarning: Do not pass an `input_shape`/`input_dim` argument to a layer. When using Sequential models, prefer using an `Input(shape)` object as the first layer in the model instead.\n",
      "  super().__init__(activity_regularizer=activity_regularizer, **kwargs)\n"
     ]
    },
    {
     "name": "stdout",
     "output_type": "stream",
     "text": [
      "\u001b[1m4/4\u001b[0m \u001b[32m━━━━━━━━━━━━━━━━━━━━\u001b[0m\u001b[37m\u001b[0m \u001b[1m0s\u001b[0m 17ms/step\n",
      "\u001b[1m2/2\u001b[0m \u001b[32m━━━━━━━━━━━━━━━━━━━━\u001b[0m\u001b[37m\u001b[0m \u001b[1m0s\u001b[0m 19ms/step\n"
     ]
    },
    {
     "name": "stderr",
     "output_type": "stream",
     "text": [
      "c:\\Users\\waisl\\anaconda3\\lib\\site-packages\\keras\\src\\layers\\core\\dense.py:87: UserWarning: Do not pass an `input_shape`/`input_dim` argument to a layer. When using Sequential models, prefer using an `Input(shape)` object as the first layer in the model instead.\n",
      "  super().__init__(activity_regularizer=activity_regularizer, **kwargs)\n"
     ]
    },
    {
     "name": "stdout",
     "output_type": "stream",
     "text": [
      "\u001b[1m4/4\u001b[0m \u001b[32m━━━━━━━━━━━━━━━━━━━━\u001b[0m\u001b[37m\u001b[0m \u001b[1m0s\u001b[0m 18ms/step\n",
      "\u001b[1m2/2\u001b[0m \u001b[32m━━━━━━━━━━━━━━━━━━━━\u001b[0m\u001b[37m\u001b[0m \u001b[1m0s\u001b[0m 20ms/step\n"
     ]
    },
    {
     "name": "stderr",
     "output_type": "stream",
     "text": [
      "c:\\Users\\waisl\\anaconda3\\lib\\site-packages\\keras\\src\\layers\\core\\dense.py:87: UserWarning: Do not pass an `input_shape`/`input_dim` argument to a layer. When using Sequential models, prefer using an `Input(shape)` object as the first layer in the model instead.\n",
      "  super().__init__(activity_regularizer=activity_regularizer, **kwargs)\n"
     ]
    },
    {
     "name": "stdout",
     "output_type": "stream",
     "text": [
      "\u001b[1m4/4\u001b[0m \u001b[32m━━━━━━━━━━━━━━━━━━━━\u001b[0m\u001b[37m\u001b[0m \u001b[1m0s\u001b[0m 20ms/step\n",
      "\u001b[1m2/2\u001b[0m \u001b[32m━━━━━━━━━━━━━━━━━━━━\u001b[0m\u001b[37m\u001b[0m \u001b[1m0s\u001b[0m 19ms/step\n"
     ]
    },
    {
     "name": "stderr",
     "output_type": "stream",
     "text": [
      "c:\\Users\\waisl\\anaconda3\\lib\\site-packages\\keras\\src\\layers\\core\\dense.py:87: UserWarning: Do not pass an `input_shape`/`input_dim` argument to a layer. When using Sequential models, prefer using an `Input(shape)` object as the first layer in the model instead.\n",
      "  super().__init__(activity_regularizer=activity_regularizer, **kwargs)\n"
     ]
    },
    {
     "name": "stdout",
     "output_type": "stream",
     "text": [
      "\u001b[1m4/4\u001b[0m \u001b[32m━━━━━━━━━━━━━━━━━━━━\u001b[0m\u001b[37m\u001b[0m \u001b[1m0s\u001b[0m 18ms/step\n",
      "\u001b[1m2/2\u001b[0m \u001b[32m━━━━━━━━━━━━━━━━━━━━\u001b[0m\u001b[37m\u001b[0m \u001b[1m0s\u001b[0m 19ms/step\n"
     ]
    },
    {
     "name": "stderr",
     "output_type": "stream",
     "text": [
      "c:\\Users\\waisl\\anaconda3\\lib\\site-packages\\keras\\src\\layers\\core\\dense.py:87: UserWarning: Do not pass an `input_shape`/`input_dim` argument to a layer. When using Sequential models, prefer using an `Input(shape)` object as the first layer in the model instead.\n",
      "  super().__init__(activity_regularizer=activity_regularizer, **kwargs)\n"
     ]
    },
    {
     "name": "stdout",
     "output_type": "stream",
     "text": [
      "\u001b[1m4/4\u001b[0m \u001b[32m━━━━━━━━━━━━━━━━━━━━\u001b[0m\u001b[37m\u001b[0m \u001b[1m0s\u001b[0m 20ms/step\n",
      "\u001b[1m2/2\u001b[0m \u001b[32m━━━━━━━━━━━━━━━━━━━━\u001b[0m\u001b[37m\u001b[0m \u001b[1m0s\u001b[0m 23ms/step\n"
     ]
    },
    {
     "name": "stderr",
     "output_type": "stream",
     "text": [
      "c:\\Users\\waisl\\anaconda3\\lib\\site-packages\\keras\\src\\layers\\core\\dense.py:87: UserWarning: Do not pass an `input_shape`/`input_dim` argument to a layer. When using Sequential models, prefer using an `Input(shape)` object as the first layer in the model instead.\n",
      "  super().__init__(activity_regularizer=activity_regularizer, **kwargs)\n"
     ]
    },
    {
     "name": "stdout",
     "output_type": "stream",
     "text": [
      "\u001b[1m4/4\u001b[0m \u001b[32m━━━━━━━━━━━━━━━━━━━━\u001b[0m\u001b[37m\u001b[0m \u001b[1m0s\u001b[0m 16ms/step\n",
      "\u001b[1m2/2\u001b[0m \u001b[32m━━━━━━━━━━━━━━━━━━━━\u001b[0m\u001b[37m\u001b[0m \u001b[1m0s\u001b[0m 19ms/step\n"
     ]
    },
    {
     "name": "stderr",
     "output_type": "stream",
     "text": [
      "c:\\Users\\waisl\\anaconda3\\lib\\site-packages\\keras\\src\\layers\\core\\dense.py:87: UserWarning: Do not pass an `input_shape`/`input_dim` argument to a layer. When using Sequential models, prefer using an `Input(shape)` object as the first layer in the model instead.\n",
      "  super().__init__(activity_regularizer=activity_regularizer, **kwargs)\n"
     ]
    },
    {
     "name": "stdout",
     "output_type": "stream",
     "text": [
      "\u001b[1m4/4\u001b[0m \u001b[32m━━━━━━━━━━━━━━━━━━━━\u001b[0m\u001b[37m\u001b[0m \u001b[1m0s\u001b[0m 25ms/step\n",
      "\u001b[1m2/2\u001b[0m \u001b[32m━━━━━━━━━━━━━━━━━━━━\u001b[0m\u001b[37m\u001b[0m \u001b[1m0s\u001b[0m 23ms/step\n"
     ]
    },
    {
     "name": "stderr",
     "output_type": "stream",
     "text": [
      "c:\\Users\\waisl\\anaconda3\\lib\\site-packages\\keras\\src\\layers\\core\\dense.py:87: UserWarning: Do not pass an `input_shape`/`input_dim` argument to a layer. When using Sequential models, prefer using an `Input(shape)` object as the first layer in the model instead.\n",
      "  super().__init__(activity_regularizer=activity_regularizer, **kwargs)\n"
     ]
    },
    {
     "name": "stdout",
     "output_type": "stream",
     "text": [
      "\u001b[1m4/4\u001b[0m \u001b[32m━━━━━━━━━━━━━━━━━━━━\u001b[0m\u001b[37m\u001b[0m \u001b[1m0s\u001b[0m 19ms/step\n",
      "\u001b[1m2/2\u001b[0m \u001b[32m━━━━━━━━━━━━━━━━━━━━\u001b[0m\u001b[37m\u001b[0m \u001b[1m0s\u001b[0m 18ms/step\n"
     ]
    },
    {
     "name": "stderr",
     "output_type": "stream",
     "text": [
      "c:\\Users\\waisl\\anaconda3\\lib\\site-packages\\keras\\src\\layers\\core\\dense.py:87: UserWarning: Do not pass an `input_shape`/`input_dim` argument to a layer. When using Sequential models, prefer using an `Input(shape)` object as the first layer in the model instead.\n",
      "  super().__init__(activity_regularizer=activity_regularizer, **kwargs)\n"
     ]
    },
    {
     "name": "stdout",
     "output_type": "stream",
     "text": [
      "\u001b[1m4/4\u001b[0m \u001b[32m━━━━━━━━━━━━━━━━━━━━\u001b[0m\u001b[37m\u001b[0m \u001b[1m0s\u001b[0m 19ms/step\n",
      "\u001b[1m2/2\u001b[0m \u001b[32m━━━━━━━━━━━━━━━━━━━━\u001b[0m\u001b[37m\u001b[0m \u001b[1m0s\u001b[0m 19ms/step\n"
     ]
    },
    {
     "name": "stderr",
     "output_type": "stream",
     "text": [
      "c:\\Users\\waisl\\anaconda3\\lib\\site-packages\\keras\\src\\layers\\core\\dense.py:87: UserWarning: Do not pass an `input_shape`/`input_dim` argument to a layer. When using Sequential models, prefer using an `Input(shape)` object as the first layer in the model instead.\n",
      "  super().__init__(activity_regularizer=activity_regularizer, **kwargs)\n"
     ]
    },
    {
     "name": "stdout",
     "output_type": "stream",
     "text": [
      "\u001b[1m4/4\u001b[0m \u001b[32m━━━━━━━━━━━━━━━━━━━━\u001b[0m\u001b[37m\u001b[0m \u001b[1m0s\u001b[0m 19ms/step\n",
      "\u001b[1m2/2\u001b[0m \u001b[32m━━━━━━━━━━━━━━━━━━━━\u001b[0m\u001b[37m\u001b[0m \u001b[1m0s\u001b[0m 17ms/step\n"
     ]
    },
    {
     "name": "stderr",
     "output_type": "stream",
     "text": [
      "c:\\Users\\waisl\\anaconda3\\lib\\site-packages\\keras\\src\\layers\\core\\dense.py:87: UserWarning: Do not pass an `input_shape`/`input_dim` argument to a layer. When using Sequential models, prefer using an `Input(shape)` object as the first layer in the model instead.\n",
      "  super().__init__(activity_regularizer=activity_regularizer, **kwargs)\n"
     ]
    },
    {
     "name": "stdout",
     "output_type": "stream",
     "text": [
      "\u001b[1m4/4\u001b[0m \u001b[32m━━━━━━━━━━━━━━━━━━━━\u001b[0m\u001b[37m\u001b[0m \u001b[1m0s\u001b[0m 21ms/step\n",
      "\u001b[1m2/2\u001b[0m \u001b[32m━━━━━━━━━━━━━━━━━━━━\u001b[0m\u001b[37m\u001b[0m \u001b[1m0s\u001b[0m 17ms/step\n"
     ]
    },
    {
     "name": "stderr",
     "output_type": "stream",
     "text": [
      "c:\\Users\\waisl\\anaconda3\\lib\\site-packages\\keras\\src\\layers\\core\\dense.py:87: UserWarning: Do not pass an `input_shape`/`input_dim` argument to a layer. When using Sequential models, prefer using an `Input(shape)` object as the first layer in the model instead.\n",
      "  super().__init__(activity_regularizer=activity_regularizer, **kwargs)\n"
     ]
    },
    {
     "name": "stdout",
     "output_type": "stream",
     "text": [
      "\u001b[1m4/4\u001b[0m \u001b[32m━━━━━━━━━━━━━━━━━━━━\u001b[0m\u001b[37m\u001b[0m \u001b[1m0s\u001b[0m 17ms/step\n",
      "\u001b[1m2/2\u001b[0m \u001b[32m━━━━━━━━━━━━━━━━━━━━\u001b[0m\u001b[37m\u001b[0m \u001b[1m0s\u001b[0m 17ms/step\n"
     ]
    },
    {
     "name": "stderr",
     "output_type": "stream",
     "text": [
      "c:\\Users\\waisl\\anaconda3\\lib\\site-packages\\keras\\src\\layers\\core\\dense.py:87: UserWarning: Do not pass an `input_shape`/`input_dim` argument to a layer. When using Sequential models, prefer using an `Input(shape)` object as the first layer in the model instead.\n",
      "  super().__init__(activity_regularizer=activity_regularizer, **kwargs)\n"
     ]
    },
    {
     "name": "stdout",
     "output_type": "stream",
     "text": [
      "\u001b[1m4/4\u001b[0m \u001b[32m━━━━━━━━━━━━━━━━━━━━\u001b[0m\u001b[37m\u001b[0m \u001b[1m0s\u001b[0m 19ms/step\n",
      "\u001b[1m2/2\u001b[0m \u001b[32m━━━━━━━━━━━━━━━━━━━━\u001b[0m\u001b[37m\u001b[0m \u001b[1m0s\u001b[0m 18ms/step\n"
     ]
    },
    {
     "name": "stderr",
     "output_type": "stream",
     "text": [
      "c:\\Users\\waisl\\anaconda3\\lib\\site-packages\\keras\\src\\layers\\core\\dense.py:87: UserWarning: Do not pass an `input_shape`/`input_dim` argument to a layer. When using Sequential models, prefer using an `Input(shape)` object as the first layer in the model instead.\n",
      "  super().__init__(activity_regularizer=activity_regularizer, **kwargs)\n"
     ]
    },
    {
     "name": "stdout",
     "output_type": "stream",
     "text": [
      "\u001b[1m4/4\u001b[0m \u001b[32m━━━━━━━━━━━━━━━━━━━━\u001b[0m\u001b[37m\u001b[0m \u001b[1m0s\u001b[0m 18ms/step\n",
      "\u001b[1m2/2\u001b[0m \u001b[32m━━━━━━━━━━━━━━━━━━━━\u001b[0m\u001b[37m\u001b[0m \u001b[1m0s\u001b[0m 19ms/step\n"
     ]
    },
    {
     "name": "stderr",
     "output_type": "stream",
     "text": [
      "c:\\Users\\waisl\\anaconda3\\lib\\site-packages\\keras\\src\\layers\\core\\dense.py:87: UserWarning: Do not pass an `input_shape`/`input_dim` argument to a layer. When using Sequential models, prefer using an `Input(shape)` object as the first layer in the model instead.\n",
      "  super().__init__(activity_regularizer=activity_regularizer, **kwargs)\n"
     ]
    },
    {
     "name": "stdout",
     "output_type": "stream",
     "text": [
      "\u001b[1m4/4\u001b[0m \u001b[32m━━━━━━━━━━━━━━━━━━━━\u001b[0m\u001b[37m\u001b[0m \u001b[1m0s\u001b[0m 19ms/step\n",
      "\u001b[1m2/2\u001b[0m \u001b[32m━━━━━━━━━━━━━━━━━━━━\u001b[0m\u001b[37m\u001b[0m \u001b[1m0s\u001b[0m 18ms/step\n"
     ]
    },
    {
     "name": "stderr",
     "output_type": "stream",
     "text": [
      "c:\\Users\\waisl\\anaconda3\\lib\\site-packages\\keras\\src\\layers\\core\\dense.py:87: UserWarning: Do not pass an `input_shape`/`input_dim` argument to a layer. When using Sequential models, prefer using an `Input(shape)` object as the first layer in the model instead.\n",
      "  super().__init__(activity_regularizer=activity_regularizer, **kwargs)\n"
     ]
    },
    {
     "name": "stdout",
     "output_type": "stream",
     "text": [
      "\u001b[1m4/4\u001b[0m \u001b[32m━━━━━━━━━━━━━━━━━━━━\u001b[0m\u001b[37m\u001b[0m \u001b[1m0s\u001b[0m 18ms/step\n",
      "\u001b[1m2/2\u001b[0m \u001b[32m━━━━━━━━━━━━━━━━━━━━\u001b[0m\u001b[37m\u001b[0m \u001b[1m0s\u001b[0m 18ms/step\n"
     ]
    },
    {
     "name": "stderr",
     "output_type": "stream",
     "text": [
      "c:\\Users\\waisl\\anaconda3\\lib\\site-packages\\keras\\src\\layers\\core\\dense.py:87: UserWarning: Do not pass an `input_shape`/`input_dim` argument to a layer. When using Sequential models, prefer using an `Input(shape)` object as the first layer in the model instead.\n",
      "  super().__init__(activity_regularizer=activity_regularizer, **kwargs)\n"
     ]
    },
    {
     "name": "stdout",
     "output_type": "stream",
     "text": [
      "\u001b[1m4/4\u001b[0m \u001b[32m━━━━━━━━━━━━━━━━━━━━\u001b[0m\u001b[37m\u001b[0m \u001b[1m0s\u001b[0m 19ms/step\n",
      "\u001b[1m2/2\u001b[0m \u001b[32m━━━━━━━━━━━━━━━━━━━━\u001b[0m\u001b[37m\u001b[0m \u001b[1m0s\u001b[0m 20ms/step\n"
     ]
    },
    {
     "name": "stderr",
     "output_type": "stream",
     "text": [
      "c:\\Users\\waisl\\anaconda3\\lib\\site-packages\\keras\\src\\layers\\core\\dense.py:87: UserWarning: Do not pass an `input_shape`/`input_dim` argument to a layer. When using Sequential models, prefer using an `Input(shape)` object as the first layer in the model instead.\n",
      "  super().__init__(activity_regularizer=activity_regularizer, **kwargs)\n"
     ]
    },
    {
     "name": "stdout",
     "output_type": "stream",
     "text": [
      "\u001b[1m4/4\u001b[0m \u001b[32m━━━━━━━━━━━━━━━━━━━━\u001b[0m\u001b[37m\u001b[0m \u001b[1m0s\u001b[0m 15ms/step\n",
      "\u001b[1m2/2\u001b[0m \u001b[32m━━━━━━━━━━━━━━━━━━━━\u001b[0m\u001b[37m\u001b[0m \u001b[1m0s\u001b[0m 16ms/step\n"
     ]
    },
    {
     "name": "stderr",
     "output_type": "stream",
     "text": [
      "c:\\Users\\waisl\\anaconda3\\lib\\site-packages\\keras\\src\\layers\\core\\dense.py:87: UserWarning: Do not pass an `input_shape`/`input_dim` argument to a layer. When using Sequential models, prefer using an `Input(shape)` object as the first layer in the model instead.\n",
      "  super().__init__(activity_regularizer=activity_regularizer, **kwargs)\n"
     ]
    },
    {
     "name": "stdout",
     "output_type": "stream",
     "text": [
      "\u001b[1m4/4\u001b[0m \u001b[32m━━━━━━━━━━━━━━━━━━━━\u001b[0m\u001b[37m\u001b[0m \u001b[1m0s\u001b[0m 16ms/step\n",
      "\u001b[1m2/2\u001b[0m \u001b[32m━━━━━━━━━━━━━━━━━━━━\u001b[0m\u001b[37m\u001b[0m \u001b[1m0s\u001b[0m 17ms/step\n"
     ]
    },
    {
     "name": "stderr",
     "output_type": "stream",
     "text": [
      "c:\\Users\\waisl\\anaconda3\\lib\\site-packages\\keras\\src\\layers\\core\\dense.py:87: UserWarning: Do not pass an `input_shape`/`input_dim` argument to a layer. When using Sequential models, prefer using an `Input(shape)` object as the first layer in the model instead.\n",
      "  super().__init__(activity_regularizer=activity_regularizer, **kwargs)\n"
     ]
    },
    {
     "name": "stdout",
     "output_type": "stream",
     "text": [
      "\u001b[1m4/4\u001b[0m \u001b[32m━━━━━━━━━━━━━━━━━━━━\u001b[0m\u001b[37m\u001b[0m \u001b[1m0s\u001b[0m 18ms/step\n",
      "\u001b[1m2/2\u001b[0m \u001b[32m━━━━━━━━━━━━━━━━━━━━\u001b[0m\u001b[37m\u001b[0m \u001b[1m0s\u001b[0m 19ms/step\n"
     ]
    },
    {
     "name": "stderr",
     "output_type": "stream",
     "text": [
      "c:\\Users\\waisl\\anaconda3\\lib\\site-packages\\keras\\src\\layers\\core\\dense.py:87: UserWarning: Do not pass an `input_shape`/`input_dim` argument to a layer. When using Sequential models, prefer using an `Input(shape)` object as the first layer in the model instead.\n",
      "  super().__init__(activity_regularizer=activity_regularizer, **kwargs)\n"
     ]
    },
    {
     "name": "stdout",
     "output_type": "stream",
     "text": [
      "\u001b[1m5/5\u001b[0m \u001b[32m━━━━━━━━━━━━━━━━━━━━\u001b[0m\u001b[37m\u001b[0m \u001b[1m0s\u001b[0m 13ms/step\n",
      "\u001b[1m1/1\u001b[0m \u001b[32m━━━━━━━━━━━━━━━━━━━━\u001b[0m\u001b[37m\u001b[0m \u001b[1m0s\u001b[0m 34ms/step\n"
     ]
    },
    {
     "name": "stderr",
     "output_type": "stream",
     "text": [
      "c:\\Users\\waisl\\anaconda3\\lib\\site-packages\\keras\\src\\layers\\core\\dense.py:87: UserWarning: Do not pass an `input_shape`/`input_dim` argument to a layer. When using Sequential models, prefer using an `Input(shape)` object as the first layer in the model instead.\n",
      "  super().__init__(activity_regularizer=activity_regularizer, **kwargs)\n"
     ]
    },
    {
     "name": "stdout",
     "output_type": "stream",
     "text": [
      "\u001b[1m5/5\u001b[0m \u001b[32m━━━━━━━━━━━━━━━━━━━━\u001b[0m\u001b[37m\u001b[0m \u001b[1m0s\u001b[0m 13ms/step\n",
      "\u001b[1m1/1\u001b[0m \u001b[32m━━━━━━━━━━━━━━━━━━━━\u001b[0m\u001b[37m\u001b[0m \u001b[1m0s\u001b[0m 35ms/step\n"
     ]
    },
    {
     "name": "stderr",
     "output_type": "stream",
     "text": [
      "c:\\Users\\waisl\\anaconda3\\lib\\site-packages\\keras\\src\\layers\\core\\dense.py:87: UserWarning: Do not pass an `input_shape`/`input_dim` argument to a layer. When using Sequential models, prefer using an `Input(shape)` object as the first layer in the model instead.\n",
      "  super().__init__(activity_regularizer=activity_regularizer, **kwargs)\n"
     ]
    },
    {
     "name": "stdout",
     "output_type": "stream",
     "text": [
      "\u001b[1m5/5\u001b[0m \u001b[32m━━━━━━━━━━━━━━━━━━━━\u001b[0m\u001b[37m\u001b[0m \u001b[1m0s\u001b[0m 19ms/step\n",
      "\u001b[1m1/1\u001b[0m \u001b[32m━━━━━━━━━━━━━━━━━━━━\u001b[0m\u001b[37m\u001b[0m \u001b[1m0s\u001b[0m 38ms/step\n"
     ]
    },
    {
     "name": "stderr",
     "output_type": "stream",
     "text": [
      "c:\\Users\\waisl\\anaconda3\\lib\\site-packages\\keras\\src\\layers\\core\\dense.py:87: UserWarning: Do not pass an `input_shape`/`input_dim` argument to a layer. When using Sequential models, prefer using an `Input(shape)` object as the first layer in the model instead.\n",
      "  super().__init__(activity_regularizer=activity_regularizer, **kwargs)\n"
     ]
    },
    {
     "name": "stdout",
     "output_type": "stream",
     "text": [
      "\u001b[1m5/5\u001b[0m \u001b[32m━━━━━━━━━━━━━━━━━━━━\u001b[0m\u001b[37m\u001b[0m \u001b[1m0s\u001b[0m 19ms/step\n",
      "\u001b[1m1/1\u001b[0m \u001b[32m━━━━━━━━━━━━━━━━━━━━\u001b[0m\u001b[37m\u001b[0m \u001b[1m0s\u001b[0m 45ms/step\n"
     ]
    },
    {
     "name": "stderr",
     "output_type": "stream",
     "text": [
      "c:\\Users\\waisl\\anaconda3\\lib\\site-packages\\keras\\src\\layers\\core\\dense.py:87: UserWarning: Do not pass an `input_shape`/`input_dim` argument to a layer. When using Sequential models, prefer using an `Input(shape)` object as the first layer in the model instead.\n",
      "  super().__init__(activity_regularizer=activity_regularizer, **kwargs)\n"
     ]
    },
    {
     "name": "stdout",
     "output_type": "stream",
     "text": [
      "\u001b[1m5/5\u001b[0m \u001b[32m━━━━━━━━━━━━━━━━━━━━\u001b[0m\u001b[37m\u001b[0m \u001b[1m0s\u001b[0m 15ms/step\n",
      "\u001b[1m1/1\u001b[0m \u001b[32m━━━━━━━━━━━━━━━━━━━━\u001b[0m\u001b[37m\u001b[0m \u001b[1m0s\u001b[0m 34ms/step\n"
     ]
    },
    {
     "name": "stderr",
     "output_type": "stream",
     "text": [
      "c:\\Users\\waisl\\anaconda3\\lib\\site-packages\\keras\\src\\layers\\core\\dense.py:87: UserWarning: Do not pass an `input_shape`/`input_dim` argument to a layer. When using Sequential models, prefer using an `Input(shape)` object as the first layer in the model instead.\n",
      "  super().__init__(activity_regularizer=activity_regularizer, **kwargs)\n"
     ]
    },
    {
     "name": "stdout",
     "output_type": "stream",
     "text": [
      "\u001b[1m5/5\u001b[0m \u001b[32m━━━━━━━━━━━━━━━━━━━━\u001b[0m\u001b[37m\u001b[0m \u001b[1m0s\u001b[0m 14ms/step\n",
      "\u001b[1m1/1\u001b[0m \u001b[32m━━━━━━━━━━━━━━━━━━━━\u001b[0m\u001b[37m\u001b[0m \u001b[1m0s\u001b[0m 32ms/step\n"
     ]
    },
    {
     "name": "stderr",
     "output_type": "stream",
     "text": [
      "c:\\Users\\waisl\\anaconda3\\lib\\site-packages\\keras\\src\\layers\\core\\dense.py:87: UserWarning: Do not pass an `input_shape`/`input_dim` argument to a layer. When using Sequential models, prefer using an `Input(shape)` object as the first layer in the model instead.\n",
      "  super().__init__(activity_regularizer=activity_regularizer, **kwargs)\n"
     ]
    },
    {
     "name": "stdout",
     "output_type": "stream",
     "text": [
      "\u001b[1m5/5\u001b[0m \u001b[32m━━━━━━━━━━━━━━━━━━━━\u001b[0m\u001b[37m\u001b[0m \u001b[1m0s\u001b[0m 14ms/step\n",
      "\u001b[1m1/1\u001b[0m \u001b[32m━━━━━━━━━━━━━━━━━━━━\u001b[0m\u001b[37m\u001b[0m \u001b[1m0s\u001b[0m 31ms/step\n"
     ]
    },
    {
     "name": "stderr",
     "output_type": "stream",
     "text": [
      "c:\\Users\\waisl\\anaconda3\\lib\\site-packages\\keras\\src\\layers\\core\\dense.py:87: UserWarning: Do not pass an `input_shape`/`input_dim` argument to a layer. When using Sequential models, prefer using an `Input(shape)` object as the first layer in the model instead.\n",
      "  super().__init__(activity_regularizer=activity_regularizer, **kwargs)\n"
     ]
    },
    {
     "name": "stdout",
     "output_type": "stream",
     "text": [
      "\u001b[1m5/5\u001b[0m \u001b[32m━━━━━━━━━━━━━━━━━━━━\u001b[0m\u001b[37m\u001b[0m \u001b[1m0s\u001b[0m 14ms/step\n",
      "\u001b[1m1/1\u001b[0m \u001b[32m━━━━━━━━━━━━━━━━━━━━\u001b[0m\u001b[37m\u001b[0m \u001b[1m0s\u001b[0m 43ms/step\n"
     ]
    },
    {
     "name": "stderr",
     "output_type": "stream",
     "text": [
      "c:\\Users\\waisl\\anaconda3\\lib\\site-packages\\keras\\src\\layers\\core\\dense.py:87: UserWarning: Do not pass an `input_shape`/`input_dim` argument to a layer. When using Sequential models, prefer using an `Input(shape)` object as the first layer in the model instead.\n",
      "  super().__init__(activity_regularizer=activity_regularizer, **kwargs)\n"
     ]
    },
    {
     "name": "stdout",
     "output_type": "stream",
     "text": [
      "\u001b[1m5/5\u001b[0m \u001b[32m━━━━━━━━━━━━━━━━━━━━\u001b[0m\u001b[37m\u001b[0m \u001b[1m0s\u001b[0m 12ms/step\n",
      "\u001b[1m1/1\u001b[0m \u001b[32m━━━━━━━━━━━━━━━━━━━━\u001b[0m\u001b[37m\u001b[0m \u001b[1m0s\u001b[0m 33ms/step\n"
     ]
    },
    {
     "name": "stderr",
     "output_type": "stream",
     "text": [
      "c:\\Users\\waisl\\anaconda3\\lib\\site-packages\\keras\\src\\layers\\core\\dense.py:87: UserWarning: Do not pass an `input_shape`/`input_dim` argument to a layer. When using Sequential models, prefer using an `Input(shape)` object as the first layer in the model instead.\n",
      "  super().__init__(activity_regularizer=activity_regularizer, **kwargs)\n"
     ]
    },
    {
     "name": "stdout",
     "output_type": "stream",
     "text": [
      "\u001b[1m5/5\u001b[0m \u001b[32m━━━━━━━━━━━━━━━━━━━━\u001b[0m\u001b[37m\u001b[0m \u001b[1m0s\u001b[0m 13ms/step\n",
      "\u001b[1m1/1\u001b[0m \u001b[32m━━━━━━━━━━━━━━━━━━━━\u001b[0m\u001b[37m\u001b[0m \u001b[1m0s\u001b[0m 35ms/step\n"
     ]
    },
    {
     "name": "stderr",
     "output_type": "stream",
     "text": [
      "c:\\Users\\waisl\\anaconda3\\lib\\site-packages\\keras\\src\\layers\\core\\dense.py:87: UserWarning: Do not pass an `input_shape`/`input_dim` argument to a layer. When using Sequential models, prefer using an `Input(shape)` object as the first layer in the model instead.\n",
      "  super().__init__(activity_regularizer=activity_regularizer, **kwargs)\n"
     ]
    },
    {
     "name": "stdout",
     "output_type": "stream",
     "text": [
      "\u001b[1m5/5\u001b[0m \u001b[32m━━━━━━━━━━━━━━━━━━━━\u001b[0m\u001b[37m\u001b[0m \u001b[1m0s\u001b[0m 13ms/step\n",
      "\u001b[1m1/1\u001b[0m \u001b[32m━━━━━━━━━━━━━━━━━━━━\u001b[0m\u001b[37m\u001b[0m \u001b[1m0s\u001b[0m 31ms/step\n"
     ]
    },
    {
     "name": "stderr",
     "output_type": "stream",
     "text": [
      "c:\\Users\\waisl\\anaconda3\\lib\\site-packages\\keras\\src\\layers\\core\\dense.py:87: UserWarning: Do not pass an `input_shape`/`input_dim` argument to a layer. When using Sequential models, prefer using an `Input(shape)` object as the first layer in the model instead.\n",
      "  super().__init__(activity_regularizer=activity_regularizer, **kwargs)\n"
     ]
    },
    {
     "name": "stdout",
     "output_type": "stream",
     "text": [
      "\u001b[1m5/5\u001b[0m \u001b[32m━━━━━━━━━━━━━━━━━━━━\u001b[0m\u001b[37m\u001b[0m \u001b[1m0s\u001b[0m 18ms/step\n",
      "\u001b[1m1/1\u001b[0m \u001b[32m━━━━━━━━━━━━━━━━━━━━\u001b[0m\u001b[37m\u001b[0m \u001b[1m0s\u001b[0m 38ms/step\n"
     ]
    },
    {
     "name": "stderr",
     "output_type": "stream",
     "text": [
      "c:\\Users\\waisl\\anaconda3\\lib\\site-packages\\keras\\src\\layers\\core\\dense.py:87: UserWarning: Do not pass an `input_shape`/`input_dim` argument to a layer. When using Sequential models, prefer using an `Input(shape)` object as the first layer in the model instead.\n",
      "  super().__init__(activity_regularizer=activity_regularizer, **kwargs)\n"
     ]
    },
    {
     "name": "stdout",
     "output_type": "stream",
     "text": [
      "\u001b[1m5/5\u001b[0m \u001b[32m━━━━━━━━━━━━━━━━━━━━\u001b[0m\u001b[37m\u001b[0m \u001b[1m0s\u001b[0m 13ms/step\n",
      "\u001b[1m1/1\u001b[0m \u001b[32m━━━━━━━━━━━━━━━━━━━━\u001b[0m\u001b[37m\u001b[0m \u001b[1m0s\u001b[0m 34ms/step\n"
     ]
    },
    {
     "name": "stderr",
     "output_type": "stream",
     "text": [
      "c:\\Users\\waisl\\anaconda3\\lib\\site-packages\\keras\\src\\layers\\core\\dense.py:87: UserWarning: Do not pass an `input_shape`/`input_dim` argument to a layer. When using Sequential models, prefer using an `Input(shape)` object as the first layer in the model instead.\n",
      "  super().__init__(activity_regularizer=activity_regularizer, **kwargs)\n"
     ]
    },
    {
     "name": "stdout",
     "output_type": "stream",
     "text": [
      "\u001b[1m5/5\u001b[0m \u001b[32m━━━━━━━━━━━━━━━━━━━━\u001b[0m\u001b[37m\u001b[0m \u001b[1m0s\u001b[0m 14ms/step\n",
      "\u001b[1m1/1\u001b[0m \u001b[32m━━━━━━━━━━━━━━━━━━━━\u001b[0m\u001b[37m\u001b[0m \u001b[1m0s\u001b[0m 34ms/step\n"
     ]
    },
    {
     "name": "stderr",
     "output_type": "stream",
     "text": [
      "c:\\Users\\waisl\\anaconda3\\lib\\site-packages\\keras\\src\\layers\\core\\dense.py:87: UserWarning: Do not pass an `input_shape`/`input_dim` argument to a layer. When using Sequential models, prefer using an `Input(shape)` object as the first layer in the model instead.\n",
      "  super().__init__(activity_regularizer=activity_regularizer, **kwargs)\n"
     ]
    },
    {
     "name": "stdout",
     "output_type": "stream",
     "text": [
      "\u001b[1m5/5\u001b[0m \u001b[32m━━━━━━━━━━━━━━━━━━━━\u001b[0m\u001b[37m\u001b[0m \u001b[1m0s\u001b[0m 12ms/step\n",
      "\u001b[1m1/1\u001b[0m \u001b[32m━━━━━━━━━━━━━━━━━━━━\u001b[0m\u001b[37m\u001b[0m \u001b[1m0s\u001b[0m 36ms/step\n"
     ]
    },
    {
     "name": "stderr",
     "output_type": "stream",
     "text": [
      "c:\\Users\\waisl\\anaconda3\\lib\\site-packages\\keras\\src\\layers\\core\\dense.py:87: UserWarning: Do not pass an `input_shape`/`input_dim` argument to a layer. When using Sequential models, prefer using an `Input(shape)` object as the first layer in the model instead.\n",
      "  super().__init__(activity_regularizer=activity_regularizer, **kwargs)\n"
     ]
    },
    {
     "name": "stdout",
     "output_type": "stream",
     "text": [
      "\u001b[1m5/5\u001b[0m \u001b[32m━━━━━━━━━━━━━━━━━━━━\u001b[0m\u001b[37m\u001b[0m \u001b[1m0s\u001b[0m 12ms/step\n",
      "\u001b[1m1/1\u001b[0m \u001b[32m━━━━━━━━━━━━━━━━━━━━\u001b[0m\u001b[37m\u001b[0m \u001b[1m0s\u001b[0m 34ms/step\n"
     ]
    },
    {
     "name": "stderr",
     "output_type": "stream",
     "text": [
      "c:\\Users\\waisl\\anaconda3\\lib\\site-packages\\keras\\src\\layers\\core\\dense.py:87: UserWarning: Do not pass an `input_shape`/`input_dim` argument to a layer. When using Sequential models, prefer using an `Input(shape)` object as the first layer in the model instead.\n",
      "  super().__init__(activity_regularizer=activity_regularizer, **kwargs)\n"
     ]
    },
    {
     "name": "stdout",
     "output_type": "stream",
     "text": [
      "\u001b[1m5/5\u001b[0m \u001b[32m━━━━━━━━━━━━━━━━━━━━\u001b[0m\u001b[37m\u001b[0m \u001b[1m0s\u001b[0m 18ms/step\n",
      "\u001b[1m1/1\u001b[0m \u001b[32m━━━━━━━━━━━━━━━━━━━━\u001b[0m\u001b[37m\u001b[0m \u001b[1m0s\u001b[0m 37ms/step\n"
     ]
    },
    {
     "name": "stderr",
     "output_type": "stream",
     "text": [
      "c:\\Users\\waisl\\anaconda3\\lib\\site-packages\\keras\\src\\layers\\core\\dense.py:87: UserWarning: Do not pass an `input_shape`/`input_dim` argument to a layer. When using Sequential models, prefer using an `Input(shape)` object as the first layer in the model instead.\n",
      "  super().__init__(activity_regularizer=activity_regularizer, **kwargs)\n"
     ]
    },
    {
     "name": "stdout",
     "output_type": "stream",
     "text": [
      "\u001b[1m5/5\u001b[0m \u001b[32m━━━━━━━━━━━━━━━━━━━━\u001b[0m\u001b[37m\u001b[0m \u001b[1m0s\u001b[0m 15ms/step\n",
      "\u001b[1m1/1\u001b[0m \u001b[32m━━━━━━━━━━━━━━━━━━━━\u001b[0m\u001b[37m\u001b[0m \u001b[1m0s\u001b[0m 33ms/step\n"
     ]
    },
    {
     "name": "stderr",
     "output_type": "stream",
     "text": [
      "c:\\Users\\waisl\\anaconda3\\lib\\site-packages\\keras\\src\\layers\\core\\dense.py:87: UserWarning: Do not pass an `input_shape`/`input_dim` argument to a layer. When using Sequential models, prefer using an `Input(shape)` object as the first layer in the model instead.\n",
      "  super().__init__(activity_regularizer=activity_regularizer, **kwargs)\n"
     ]
    },
    {
     "name": "stdout",
     "output_type": "stream",
     "text": [
      "\u001b[1m5/5\u001b[0m \u001b[32m━━━━━━━━━━━━━━━━━━━━\u001b[0m\u001b[37m\u001b[0m \u001b[1m0s\u001b[0m 13ms/step\n",
      "\u001b[1m1/1\u001b[0m \u001b[32m━━━━━━━━━━━━━━━━━━━━\u001b[0m\u001b[37m\u001b[0m \u001b[1m0s\u001b[0m 32ms/step\n"
     ]
    },
    {
     "name": "stderr",
     "output_type": "stream",
     "text": [
      "c:\\Users\\waisl\\anaconda3\\lib\\site-packages\\keras\\src\\layers\\core\\dense.py:87: UserWarning: Do not pass an `input_shape`/`input_dim` argument to a layer. When using Sequential models, prefer using an `Input(shape)` object as the first layer in the model instead.\n",
      "  super().__init__(activity_regularizer=activity_regularizer, **kwargs)\n"
     ]
    },
    {
     "name": "stdout",
     "output_type": "stream",
     "text": [
      "\u001b[1m5/5\u001b[0m \u001b[32m━━━━━━━━━━━━━━━━━━━━\u001b[0m\u001b[37m\u001b[0m \u001b[1m0s\u001b[0m 17ms/step\n",
      "\u001b[1m1/1\u001b[0m \u001b[32m━━━━━━━━━━━━━━━━━━━━\u001b[0m\u001b[37m\u001b[0m \u001b[1m0s\u001b[0m 46ms/step\n"
     ]
    },
    {
     "name": "stderr",
     "output_type": "stream",
     "text": [
      "c:\\Users\\waisl\\anaconda3\\lib\\site-packages\\keras\\src\\layers\\core\\dense.py:87: UserWarning: Do not pass an `input_shape`/`input_dim` argument to a layer. When using Sequential models, prefer using an `Input(shape)` object as the first layer in the model instead.\n",
      "  super().__init__(activity_regularizer=activity_regularizer, **kwargs)\n"
     ]
    },
    {
     "name": "stdout",
     "output_type": "stream",
     "text": [
      "\u001b[1m5/5\u001b[0m \u001b[32m━━━━━━━━━━━━━━━━━━━━\u001b[0m\u001b[37m\u001b[0m \u001b[1m0s\u001b[0m 16ms/step\n",
      "\u001b[1m1/1\u001b[0m \u001b[32m━━━━━━━━━━━━━━━━━━━━\u001b[0m\u001b[37m\u001b[0m \u001b[1m0s\u001b[0m 45ms/step\n"
     ]
    },
    {
     "name": "stderr",
     "output_type": "stream",
     "text": [
      "c:\\Users\\waisl\\anaconda3\\lib\\site-packages\\keras\\src\\layers\\core\\dense.py:87: UserWarning: Do not pass an `input_shape`/`input_dim` argument to a layer. When using Sequential models, prefer using an `Input(shape)` object as the first layer in the model instead.\n",
      "  super().__init__(activity_regularizer=activity_regularizer, **kwargs)\n"
     ]
    },
    {
     "name": "stdout",
     "output_type": "stream",
     "text": [
      "\u001b[1m5/5\u001b[0m \u001b[32m━━━━━━━━━━━━━━━━━━━━\u001b[0m\u001b[37m\u001b[0m \u001b[1m0s\u001b[0m 14ms/step\n",
      "\u001b[1m1/1\u001b[0m \u001b[32m━━━━━━━━━━━━━━━━━━━━\u001b[0m\u001b[37m\u001b[0m \u001b[1m0s\u001b[0m 34ms/step\n"
     ]
    },
    {
     "name": "stderr",
     "output_type": "stream",
     "text": [
      "c:\\Users\\waisl\\anaconda3\\lib\\site-packages\\keras\\src\\layers\\core\\dense.py:87: UserWarning: Do not pass an `input_shape`/`input_dim` argument to a layer. When using Sequential models, prefer using an `Input(shape)` object as the first layer in the model instead.\n",
      "  super().__init__(activity_regularizer=activity_regularizer, **kwargs)\n"
     ]
    },
    {
     "name": "stdout",
     "output_type": "stream",
     "text": [
      "\u001b[1m5/5\u001b[0m \u001b[32m━━━━━━━━━━━━━━━━━━━━\u001b[0m\u001b[37m\u001b[0m \u001b[1m0s\u001b[0m 14ms/step\n",
      "\u001b[1m1/1\u001b[0m \u001b[32m━━━━━━━━━━━━━━━━━━━━\u001b[0m\u001b[37m\u001b[0m \u001b[1m0s\u001b[0m 32ms/step\n"
     ]
    },
    {
     "name": "stderr",
     "output_type": "stream",
     "text": [
      "c:\\Users\\waisl\\anaconda3\\lib\\site-packages\\keras\\src\\layers\\core\\dense.py:87: UserWarning: Do not pass an `input_shape`/`input_dim` argument to a layer. When using Sequential models, prefer using an `Input(shape)` object as the first layer in the model instead.\n",
      "  super().__init__(activity_regularizer=activity_regularizer, **kwargs)\n"
     ]
    },
    {
     "name": "stdout",
     "output_type": "stream",
     "text": [
      "\u001b[1m5/5\u001b[0m \u001b[32m━━━━━━━━━━━━━━━━━━━━\u001b[0m\u001b[37m\u001b[0m \u001b[1m0s\u001b[0m 14ms/step\n",
      "\u001b[1m1/1\u001b[0m \u001b[32m━━━━━━━━━━━━━━━━━━━━\u001b[0m\u001b[37m\u001b[0m \u001b[1m0s\u001b[0m 35ms/step\n"
     ]
    },
    {
     "name": "stderr",
     "output_type": "stream",
     "text": [
      "c:\\Users\\waisl\\anaconda3\\lib\\site-packages\\keras\\src\\layers\\core\\dense.py:87: UserWarning: Do not pass an `input_shape`/`input_dim` argument to a layer. When using Sequential models, prefer using an `Input(shape)` object as the first layer in the model instead.\n",
      "  super().__init__(activity_regularizer=activity_regularizer, **kwargs)\n"
     ]
    },
    {
     "name": "stdout",
     "output_type": "stream",
     "text": [
      "\u001b[1m5/5\u001b[0m \u001b[32m━━━━━━━━━━━━━━━━━━━━\u001b[0m\u001b[37m\u001b[0m \u001b[1m0s\u001b[0m 13ms/step\n",
      "\u001b[1m1/1\u001b[0m \u001b[32m━━━━━━━━━━━━━━━━━━━━\u001b[0m\u001b[37m\u001b[0m \u001b[1m0s\u001b[0m 37ms/step\n"
     ]
    },
    {
     "name": "stderr",
     "output_type": "stream",
     "text": [
      "c:\\Users\\waisl\\anaconda3\\lib\\site-packages\\keras\\src\\layers\\core\\dense.py:87: UserWarning: Do not pass an `input_shape`/`input_dim` argument to a layer. When using Sequential models, prefer using an `Input(shape)` object as the first layer in the model instead.\n",
      "  super().__init__(activity_regularizer=activity_regularizer, **kwargs)\n"
     ]
    },
    {
     "name": "stdout",
     "output_type": "stream",
     "text": [
      "\u001b[1m5/5\u001b[0m \u001b[32m━━━━━━━━━━━━━━━━━━━━\u001b[0m\u001b[37m\u001b[0m \u001b[1m0s\u001b[0m 14ms/step\n",
      "\u001b[1m1/1\u001b[0m \u001b[32m━━━━━━━━━━━━━━━━━━━━\u001b[0m\u001b[37m\u001b[0m \u001b[1m0s\u001b[0m 33ms/step\n"
     ]
    },
    {
     "name": "stderr",
     "output_type": "stream",
     "text": [
      "c:\\Users\\waisl\\anaconda3\\lib\\site-packages\\keras\\src\\layers\\core\\dense.py:87: UserWarning: Do not pass an `input_shape`/`input_dim` argument to a layer. When using Sequential models, prefer using an `Input(shape)` object as the first layer in the model instead.\n",
      "  super().__init__(activity_regularizer=activity_regularizer, **kwargs)\n"
     ]
    },
    {
     "name": "stdout",
     "output_type": "stream",
     "text": [
      "\u001b[1m5/5\u001b[0m \u001b[32m━━━━━━━━━━━━━━━━━━━━\u001b[0m\u001b[37m\u001b[0m \u001b[1m0s\u001b[0m 14ms/step\n",
      "\u001b[1m1/1\u001b[0m \u001b[32m━━━━━━━━━━━━━━━━━━━━\u001b[0m\u001b[37m\u001b[0m \u001b[1m0s\u001b[0m 34ms/step\n",
      "Hasil terbaik untuk Config 1 (50% train, 50% test) dengan aktivasi relu:\n",
      "a) MSE pada data training: 2.0\n",
      "b) Akurasi pada data testing: 0.2\n",
      "c) Precision pada data testing: 0.04\n",
      "d) Recall pada data testing: 0.2\n",
      "e) F1 Score pada data testing: 0.06666666666666668\n",
      "f) Hyperparameters terbaik: Epochs=50, Learning Rate=0.1, Activation=relu\n",
      "\n",
      "Hasil terbaik untuk Config 1 (50% train, 50% test) dengan aktivasi tanh:\n",
      "a) MSE pada data training: 4.12\n",
      "b) Akurasi pada data testing: 0.2\n",
      "c) Precision pada data testing: 0.17904761904761904\n",
      "d) Recall pada data testing: 0.2\n",
      "e) F1 Score pada data testing: 0.13458823529411765\n",
      "f) Hyperparameters terbaik: Epochs=150, Learning Rate=0.1, Activation=tanh\n",
      "\n",
      "Hasil terbaik untuk Config 1 (50% train, 50% test) dengan aktivasi sigmoid:\n",
      "a) MSE pada data training: 6.0\n",
      "b) Akurasi pada data testing: 0.2\n",
      "c) Precision pada data testing: 0.04\n",
      "d) Recall pada data testing: 0.2\n",
      "e) F1 Score pada data testing: 0.06666666666666668\n",
      "f) Hyperparameters terbaik: Epochs=100, Learning Rate=0.1, Activation=sigmoid\n",
      "\n",
      "Hasil terbaik untuk Config 2 (70% train, 30% test) dengan aktivasi relu:\n",
      "a) MSE pada data training: 6.0\n",
      "b) Akurasi pada data testing: 0.2\n",
      "c) Precision pada data testing: 0.04\n",
      "d) Recall pada data testing: 0.2\n",
      "e) F1 Score pada data testing: 0.06666666666666668\n",
      "f) Hyperparameters terbaik: Epochs=50, Learning Rate=0.1, Activation=relu\n",
      "\n",
      "Hasil terbaik untuk Config 2 (70% train, 30% test) dengan aktivasi tanh:\n",
      "a) MSE pada data training: 4.533333333333333\n",
      "b) Akurasi pada data testing: 0.2\n",
      "c) Precision pada data testing: 0.2847826086956522\n",
      "d) Recall pada data testing: 0.2\n",
      "e) F1 Score pada data testing: 0.154\n",
      "f) Hyperparameters terbaik: Epochs=100, Learning Rate=0.1, Activation=tanh\n",
      "\n",
      "Hasil terbaik untuk Config 2 (70% train, 30% test) dengan aktivasi sigmoid:\n",
      "a) MSE pada data training: 2.0\n",
      "b) Akurasi pada data testing: 0.2\n",
      "c) Precision pada data testing: 0.04\n",
      "d) Recall pada data testing: 0.2\n",
      "e) F1 Score pada data testing: 0.06666666666666668\n",
      "f) Hyperparameters terbaik: Epochs=50, Learning Rate=0.1, Activation=sigmoid\n",
      "\n",
      "Hasil terbaik untuk Config 3 (90% train, 10% test) dengan aktivasi relu:\n",
      "a) MSE pada data training: 3.0\n",
      "b) Akurasi pada data testing: 0.2\n",
      "c) Precision pada data testing: 0.04000000000000001\n",
      "d) Recall pada data testing: 0.2\n",
      "e) F1 Score pada data testing: 0.06666666666666667\n",
      "f) Hyperparameters terbaik: Epochs=50, Learning Rate=0.1, Activation=relu\n",
      "\n",
      "Hasil terbaik untuk Config 3 (90% train, 10% test) dengan aktivasi tanh:\n",
      "a) MSE pada data training: 4.962962962962963\n",
      "b) Akurasi pada data testing: 0.26666666666666666\n",
      "c) Precision pada data testing: 0.20833333333333334\n",
      "d) Recall pada data testing: 0.26666666666666666\n",
      "e) F1 Score pada data testing: 0.22683982683982684\n",
      "f) Hyperparameters terbaik: Epochs=50, Learning Rate=0.01, Activation=tanh\n",
      "\n",
      "Hasil terbaik untuk Config 3 (90% train, 10% test) dengan aktivasi sigmoid:\n",
      "a) MSE pada data training: 3.0\n",
      "b) Akurasi pada data testing: 0.2\n",
      "c) Precision pada data testing: 0.04000000000000001\n",
      "d) Recall pada data testing: 0.2\n",
      "e) F1 Score pada data testing: 0.06666666666666667\n",
      "f) Hyperparameters terbaik: Epochs=50, Learning Rate=0.1, Activation=sigmoid\n",
      "\n"
     ]
    },
    {
     "data": {
      "image/png": "[encoded data removed]",
      "text/plain": [
       "<Figure size 1200x500 with 2 Axes>"
      ]
     },
     "metadata": {},
     "output_type": "display_data"
    }
   ],
   "source": [
    "import pandas as pd\n",
    "import numpy as np\n",
    "from sklearn.model_selection import train_test_split\n",
    "from sklearn.metrics import mean_squared_error, accuracy_score, precision_score, recall_score, f1_score\n",
    "import matplotlib.pyplot as plt\n",
    "import tensorflow as tf\n",
    "from tensorflow.keras.models import Sequential\n",
    "from tensorflow.keras.layers import Dense, Dropout\n",
    "from tensorflow.keras.optimizers import Adam\n",
    "\n",
    "# Misalkan ini adalah dataset Anda\n",
    "data = pd.DataFrame({\n",
    "    'Satisfaction': [\"Very Dissatisfied\", \"Dissatisfied\", \"Neutral\", \"Satisfied\", \"Very Satisfied\"] * 30,\n",
    "    'Recommended': range(150),\n",
    "    'ValueForMoney': range(150, 300),\n",
    "    'Food&Beverages': range(300, 450),\n",
    "    'SeatComfort': range(450, 600),\n",
    "    'GroundService': range(600, 750),\n",
    "    'CabinStaffService': range(750, 900),\n",
    "    'Wifi&Connectivity': range(900, 1050),\n",
    "    'InflightEntertainment': range(1050, 1200)\n",
    "})\n",
    "\n",
    "# Encode target variable\n",
    "data['Satisfaction'] = data['Satisfaction'].astype('category').cat.codes\n",
    "\n",
    "# Fitur yang dipilih berdasarkan ANOVA\n",
    "selected_features = [\n",
    "    'Recommended', 'ValueForMoney', 'Food&Beverages', 'SeatComfort',\n",
    "    'GroundService', 'CabinStaffService', 'Wifi&Connectivity', 'InflightEntertainment'\n",
    "]\n",
    "\n",
    "X = data[selected_features]\n",
    "y = data['Satisfaction']\n",
    "\n",
    "# Konfigurasi proporsi data untuk setiap kelas\n",
    "configurations = {\n",
    "    \"Config 1 (50% train, 50% test)\": 0.5,\n",
    "    \"Config 2 (70% train, 30% test)\": 0.7,\n",
    "    \"Config 3 (90% train, 10% test)\": 0.9,\n",
    "}\n",
    "\n",
    "results = []\n",
    "\n",
    "# Hyperparameter grid\n",
    "epochs_list = [50, 100, 150]\n",
    "learning_rates = [0.001, 0.01, 0.1]\n",
    "activation_functions = ['relu', 'tanh', 'sigmoid']\n",
    "\n",
    "for config_name, train_ratio in configurations.items():\n",
    "    # Split data\n",
    "    X_train, X_test, y_train, y_test = train_test_split(X, y, train_size=train_ratio, random_state=42, stratify=y)\n",
    "\n",
    "    # Normalisasi data\n",
    "    X_train = (X_train - X_train.mean()) / X_train.std()\n",
    "    X_test = (X_test - X_test.mean()) / X_test.std()\n",
    "\n",
    "    for epochs in epochs_list:\n",
    "        for learning_rate in learning_rates:\n",
    "            for activation in activation_functions:\n",
    "                # Bangun model MLP dengan TensorFlow\n",
    "                model = Sequential([\n",
    "                    Dense(128, input_dim=X_train.shape[1], activation=activation),\n",
    "                    Dropout(0.3),\n",
    "                    Dense(64, activation=activation),\n",
    "                    Dropout(0.3),\n",
    "                    Dense(len(np.unique(y)), activation='softmax')\n",
    "                ])\n",
    "\n",
    "                # Compile model\n",
    "                model.compile(optimizer=Adam(learning_rate=learning_rate), loss='sparse_categorical_crossentropy', metrics=['accuracy'])\n",
    "\n",
    "                # Train model\n",
    "                history = model.fit(X_train, y_train, epochs=epochs, batch_size=16, verbose=0, validation_data=(X_test, y_test))\n",
    "\n",
    "                # Evaluasi model\n",
    "                y_train_pred = np.argmax(model.predict(X_train), axis=1)\n",
    "                y_test_pred = np.argmax(model.predict(X_test), axis=1)\n",
    "\n",
    "                mse_train = mean_squared_error(y_train, y_train_pred)\n",
    "                acc_test = accuracy_score(y_test, y_test_pred)\n",
    "                precision = precision_score(y_test, y_test_pred, average='weighted', zero_division=0)\n",
    "                recall = recall_score(y_test, y_test_pred, average='weighted', zero_division=0)\n",
    "                f1 = f1_score(y_test, y_test_pred, average='weighted', zero_division=0)\n",
    "\n",
    "                # Simpan hasil\n",
    "                results.append({\n",
    "                    \"Configuration\": config_name,\n",
    "                    \"Epochs\": epochs,\n",
    "                    \"Learning Rate\": learning_rate,\n",
    "                    \"Activation\": activation,\n",
    "                    \"MSE (Train)\": mse_train,\n",
    "                    \"Accuracy (Test)\": acc_test,\n",
    "                    \"Precision (Test)\": precision,\n",
    "                    \"Recall (Test)\": recall,\n",
    "                    \"F1 Score (Test)\": f1\n",
    "                })\n",
    "\n",
    "# Pilih hasil terbaik untuk setiap konfigurasi dan fungsi aktivasi\n",
    "best_results = []\n",
    "for config_name in configurations.keys():\n",
    "    for activation in activation_functions:\n",
    "        config_results = [r for r in results if r['Configuration'] == config_name and r['Activation'] == activation]\n",
    "        if config_results:\n",
    "            best_result = max(config_results, key=lambda x: x['Accuracy (Test)'])\n",
    "            best_results.append(best_result)\n",
    "\n",
    "# Tampilkan hasil terbaik\n",
    "for result in best_results:\n",
    "    print(f\"Hasil terbaik untuk {result['Configuration']} dengan aktivasi {result['Activation']}:\")\n",
    "    print(f\"a) MSE pada data training: {result['MSE (Train)']}\")\n",
    "    print(f\"b) Akurasi pada data testing: {result['Accuracy (Test)']}\")\n",
    "    print(f\"c) Precision pada data testing: {result['Precision (Test)']}\")\n",
    "    print(f\"d) Recall pada data testing: {result['Recall (Test)']}\")\n",
    "    print(f\"e) F1 Score pada data testing: {result['F1 Score (Test)']}\")\n",
    "    print(f\"f) Hyperparameters terbaik: Epochs={result['Epochs']}, Learning Rate={result['Learning Rate']}, Activation={result['Activation']}\\n\")\n",
    "\n",
    "# Visualisasi hasil\n",
    "fig, axes = plt.subplots(1, 2, figsize=(12, 5))\n",
    "\n",
    "# Plot akurasi\n",
    "axes[0].bar([f\"{r['Configuration']}\\n{r['Activation']}\" for r in best_results], \n",
    "             [r['Accuracy (Test)'] for r in best_results], color='skyblue')\n",
    "axes[0].set_title('Best Accuracy on Test Data')\n",
    "axes[0].set_ylabel('Accuracy')\n",
    "axes[0].set_xlabel('Configuration and Activation')\n",
    "axes[0].tick_params(axis='x', rotation=45)\n",
    "\n",
    "# Plot MSE\n",
    "axes[1].bar([f\"{r['Configuration']}\\n{r['Activation']}\" for r in best_results], \n",
    "             [r['MSE (Train)'] for r in best_results], color='salmon')\n",
    "axes[1].set_title('Best MSE on Training Data')\n",
    "axes[1].set_ylabel('MSE')\n",
    "axes[1].set_xlabel('Configuration and Activation')\n",
    "axes[1].tick_params(axis='x', rotation=45)\n",
    "\n",
    "plt.tight_layout()\n",
    "plt.show()"
   ]
  },
  {
   "cell_type": "markdown",
   "metadata": {},
   "source": [
    "PyTorch Ini Le"
   ]
  },
  {
   "cell_type": "code",
   "execution_count": 110,
   "metadata": {},
   "outputs": [],
   "source": [
    "import pandas as pd\n",
    "import numpy as np\n",
    "from sklearn.model_selection import train_test_split\n",
    "from sklearn.metrics import mean_squared_error, accuracy_score, precision_score, recall_score, f1_score\n",
    "import matplotlib.pyplot as plt\n",
    "import torch\n",
    "import torch.nn as nn\n",
    "import torch.optim as optim\n",
    "\n"
   ]
  }
 ],
 "metadata": {
  "kernelspec": {
   "display_name": "base",
   "language": "python",
   "name": "python3"
  },
  "language_info": {
   "codemirror_mode": {
    "name": "ipython",
    "version": 3
   },
   "file_extension": ".py",
   "mimetype": "text/x-python",
   "name": "python",
   "nbconvert_exporter": "python",
   "pygments_lexer": "ipython3",
   "version": "3.10.9"
  }
 },
 "nbformat": 4,
 "nbformat_minor": 2
}
